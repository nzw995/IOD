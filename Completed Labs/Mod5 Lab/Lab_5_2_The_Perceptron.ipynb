{
 "cells": [
  {
   "cell_type": "markdown",
   "metadata": {
    "id": "jq8zRd3jTtAb"
   },
   "source": [
    "<div>\n",
    "<img src=https://www.institutedata.com/wp-content/uploads/2019/10/iod_h_tp_primary_c.svg width=\"300\">\n",
    "</div>"
   ]
  },
  {
   "cell_type": "markdown",
   "metadata": {
    "id": "ioFn-df0TtAd"
   },
   "source": [
    "# Lab 5.2 \n",
    "# *The Perceptron*"
   ]
  },
  {
   "cell_type": "markdown",
   "metadata": {
    "id": "9ZrnRfDnTtAf"
   },
   "source": [
    "The perceptron is the basic unit of a neural network. It learns by adjusting the weights applied to each of its inputs until the error at its output is minimised.\n",
    "\n",
    "The example in this lab uses the stochastic gradient descent (SGD) algorithm to optimise the weights of a perceptron applied to a 2D classification problem."
   ]
  },
  {
   "cell_type": "code",
   "execution_count": 1,
   "metadata": {
    "ExecuteTime": {
     "end_time": "2019-05-08T08:26:36.248424Z",
     "start_time": "2019-05-08T08:26:35.663989Z"
    },
    "id": "zx6z5_xXTtAi"
   },
   "outputs": [],
   "source": [
    "import numpy as np\n",
    "from matplotlib import pyplot as plt\n",
    "%matplotlib inline"
   ]
  },
  {
   "cell_type": "markdown",
   "metadata": {
    "id": "Xr7oFCsUTtAp"
   },
   "source": [
    "The training dataset has 2 numeric features (X is 2D) and a binary response (y = +/-1):"
   ]
  },
  {
   "cell_type": "code",
   "execution_count": 26,
   "metadata": {
    "ExecuteTime": {
     "end_time": "2019-05-08T08:26:38.234462Z",
     "start_time": "2019-05-08T08:26:38.227134Z"
    },
    "id": "fTGIf8aVTtAr"
   },
   "outputs": [],
   "source": [
    "X = np.array([[-2, 4], [4, 1], [1, 6], [2, 4], [6, 2]])\n",
    "y = np.array([-1, -1, 1, 1, 1])"
   ]
  },
  {
   "cell_type": "markdown",
   "metadata": {
    "id": "Mq1AisHdTtAx"
   },
   "source": [
    "Here is the training data, along with a candidate hyperplane that separates the classes:"
   ]
  },
  {
   "cell_type": "code",
   "execution_count": 3,
   "metadata": {
    "ExecuteTime": {
     "end_time": "2019-05-08T08:26:52.008948Z",
     "start_time": "2019-05-08T08:26:51.673659Z"
    },
    "id": "edayhuvQTtAz"
   },
   "outputs": [
    {
     "name": "stdout",
     "output_type": "stream",
     "text": [
      "0 [-2  4]\n",
      "1 [4 1]\n",
      "2 [1 6]\n",
      "3 [2 4]\n",
      "4 [6 2]\n"
     ]
    },
    {
     "data": {
      "image/png": "[encoded data removed]",
      "text/plain": [
       "<Figure size 432x288 with 1 Axes>"
      ]
     },
     "metadata": {
      "needs_background": "light"
     },
     "output_type": "display_data"
    }
   ],
   "source": [
    "def plotData(X):\n",
    "    for d, sample in enumerate(X):\n",
    "        print(d, sample)\n",
    "        # Plot the samples labelled 'negative -'\n",
    "        if d < 2:\n",
    "            plt.scatter(sample[0], sample[1], s = 120, marker = '_', color = 'blue', linewidths = 2)\n",
    "        # Plot the samples labelled 'positive +''\n",
    "        else:\n",
    "            plt.scatter(sample[0], sample[1], s = 120, marker = '+', color = 'blue', linewidths = 2)\n",
    "    plt.xlabel('X0')\n",
    "    plt.ylabel('X1')\n",
    "\n",
    "plotData(X)\n",
    "\n",
    "# Print a possible hyperplane, that is separating the two classes:\n",
    "plt.plot([-2, 6], [6, 0.5], color = 'orange', linestyle = 'dashed');"
   ]
  },
  {
   "cell_type": "markdown",
   "metadata": {
    "id": "C6cXLNCHTtA4"
   },
   "source": [
    "We need to include a bias term (-1) in the X array. This will transform the decision boundary so that the sign of the dot product of any data point with the weights vector (represented by ⟨x[i], w⟩ in code commments, below) will determine class membership: "
   ]
  },
  {
   "cell_type": "code",
   "execution_count": 27,
   "metadata": {
    "ExecuteTime": {
     "end_time": "2019-05-08T08:27:12.602633Z",
     "start_time": "2019-05-08T08:27:12.597240Z"
    },
    "id": "kB2nAgFCTtA5"
   },
   "outputs": [],
   "source": [
    "X = np.array([ [-2, 4, -1], [4, 1, -1], [1, 6, -1], [2, 4, -1], [6, 2, -1]])"
   ]
  },
  {
   "cell_type": "markdown",
   "metadata": {
    "id": "osAbAN8uTtA9"
   },
   "source": [
    "Here is a simple implementation of the stochastic gradient descent algorithm for computing the weights:"
   ]
  },
  {
   "cell_type": "code",
   "execution_count": 5,
   "metadata": {
    "ExecuteTime": {
     "end_time": "2019-05-08T08:27:19.076619Z",
     "start_time": "2019-05-08T08:27:19.057921Z"
    },
    "id": "p19kSX3ATtA-"
   },
   "outputs": [],
   "source": [
    "def perceptron_sgd(Xt, Yt, eta = 1, epochs = 20):\n",
    "    \n",
    "    # Initialize the weight vector for the perceptron with zeros:\n",
    "    wt = np.zeros(len(Xt[0]))\n",
    "    \n",
    "    for t in range(epochs):\n",
    "        print('\\nepoch[%i]' %t)\n",
    "        # Iterate over each sample in the data set:\n",
    "        for i, x in enumerate(Xt):\n",
    "            print('Xt[%i]: '%i, x)\n",
    "            # Test for misclassification: y * ⟨x[i], w⟩ <= 0:\n",
    "            print('is np.dot(Xt[i], wt) * Yt[i] <= 0?: ',np.dot(Xt[i], wt) * Yt[i])\n",
    "            if (np.dot(Xt[i], wt) * Yt[i]) <= 0:\n",
    "                # Update weights:\n",
    "                wt = wt + eta * Xt[i] * Yt[i]\n",
    "                print('Updated weights: ', wt)\n",
    "\n",
    "    return wt"
   ]
  },
  {
   "cell_type": "markdown",
   "metadata": {
    "id": "k0KLK06CTtBA"
   },
   "source": [
    "Compute the weights using default learning rate (eta = 1) and number of epochs = 10:"
   ]
  },
  {
   "cell_type": "code",
   "execution_count": 6,
   "metadata": {
    "ExecuteTime": {
     "end_time": "2019-05-08T08:27:21.238256Z",
     "start_time": "2019-05-08T08:27:21.230609Z"
    },
    "id": "hhnp-r5ZTtBB"
   },
   "outputs": [
    {
     "name": "stdout",
     "output_type": "stream",
     "text": [
      "\n",
      "epoch[0]\n",
      "Xt[0]:  [-2  4 -1]\n",
      "is np.dot(Xt[i], wt) * Yt[i] <= 0?:  -0.0\n",
      "Updated weights:  [ 2. -4.  1.]\n",
      "Xt[1]:  [ 4  1 -1]\n",
      "is np.dot(Xt[i], wt) * Yt[i] <= 0?:  -3.0\n",
      "Updated weights:  [-2. -5.  2.]\n",
      "Xt[2]:  [ 1  6 -1]\n",
      "is np.dot(Xt[i], wt) * Yt[i] <= 0?:  -34.0\n",
      "Updated weights:  [-1.  1.  1.]\n",
      "Xt[3]:  [ 2  4 -1]\n",
      "is np.dot(Xt[i], wt) * Yt[i] <= 0?:  1.0\n",
      "Xt[4]:  [ 6  2 -1]\n",
      "is np.dot(Xt[i], wt) * Yt[i] <= 0?:  -5.0\n",
      "Updated weights:  [5. 3. 0.]\n",
      "\n",
      "epoch[1]\n",
      "Xt[0]:  [-2  4 -1]\n",
      "is np.dot(Xt[i], wt) * Yt[i] <= 0?:  -2.0\n",
      "Updated weights:  [ 7. -1.  1.]\n",
      "Xt[1]:  [ 4  1 -1]\n",
      "is np.dot(Xt[i], wt) * Yt[i] <= 0?:  -26.0\n",
      "Updated weights:  [ 3. -2.  2.]\n",
      "Xt[2]:  [ 1  6 -1]\n",
      "is np.dot(Xt[i], wt) * Yt[i] <= 0?:  -11.0\n",
      "Updated weights:  [4. 4. 1.]\n",
      "Xt[3]:  [ 2  4 -1]\n",
      "is np.dot(Xt[i], wt) * Yt[i] <= 0?:  23.0\n",
      "Xt[4]:  [ 6  2 -1]\n",
      "is np.dot(Xt[i], wt) * Yt[i] <= 0?:  31.0\n",
      "\n",
      "epoch[2]\n",
      "Xt[0]:  [-2  4 -1]\n",
      "is np.dot(Xt[i], wt) * Yt[i] <= 0?:  -7.0\n",
      "Updated weights:  [6. 0. 2.]\n",
      "Xt[1]:  [ 4  1 -1]\n",
      "is np.dot(Xt[i], wt) * Yt[i] <= 0?:  -22.0\n",
      "Updated weights:  [ 2. -1.  3.]\n",
      "Xt[2]:  [ 1  6 -1]\n",
      "is np.dot(Xt[i], wt) * Yt[i] <= 0?:  -7.0\n",
      "Updated weights:  [3. 5. 2.]\n",
      "Xt[3]:  [ 2  4 -1]\n",
      "is np.dot(Xt[i], wt) * Yt[i] <= 0?:  24.0\n",
      "Xt[4]:  [ 6  2 -1]\n",
      "is np.dot(Xt[i], wt) * Yt[i] <= 0?:  26.0\n",
      "\n",
      "epoch[3]\n",
      "Xt[0]:  [-2  4 -1]\n",
      "is np.dot(Xt[i], wt) * Yt[i] <= 0?:  -12.0\n",
      "Updated weights:  [5. 1. 3.]\n",
      "Xt[1]:  [ 4  1 -1]\n",
      "is np.dot(Xt[i], wt) * Yt[i] <= 0?:  -18.0\n",
      "Updated weights:  [1. 0. 4.]\n",
      "Xt[2]:  [ 1  6 -1]\n",
      "is np.dot(Xt[i], wt) * Yt[i] <= 0?:  -3.0\n",
      "Updated weights:  [2. 6. 3.]\n",
      "Xt[3]:  [ 2  4 -1]\n",
      "is np.dot(Xt[i], wt) * Yt[i] <= 0?:  25.0\n",
      "Xt[4]:  [ 6  2 -1]\n",
      "is np.dot(Xt[i], wt) * Yt[i] <= 0?:  21.0\n",
      "\n",
      "epoch[4]\n",
      "Xt[0]:  [-2  4 -1]\n",
      "is np.dot(Xt[i], wt) * Yt[i] <= 0?:  -17.0\n",
      "Updated weights:  [4. 2. 4.]\n",
      "Xt[1]:  [ 4  1 -1]\n",
      "is np.dot(Xt[i], wt) * Yt[i] <= 0?:  -14.0\n",
      "Updated weights:  [0. 1. 5.]\n",
      "Xt[2]:  [ 1  6 -1]\n",
      "is np.dot(Xt[i], wt) * Yt[i] <= 0?:  1.0\n",
      "Xt[3]:  [ 2  4 -1]\n",
      "is np.dot(Xt[i], wt) * Yt[i] <= 0?:  -1.0\n",
      "Updated weights:  [2. 5. 4.]\n",
      "Xt[4]:  [ 6  2 -1]\n",
      "is np.dot(Xt[i], wt) * Yt[i] <= 0?:  18.0\n",
      "\n",
      "epoch[5]\n",
      "Xt[0]:  [-2  4 -1]\n",
      "is np.dot(Xt[i], wt) * Yt[i] <= 0?:  -12.0\n",
      "Updated weights:  [4. 1. 5.]\n",
      "Xt[1]:  [ 4  1 -1]\n",
      "is np.dot(Xt[i], wt) * Yt[i] <= 0?:  -12.0\n",
      "Updated weights:  [0. 0. 6.]\n",
      "Xt[2]:  [ 1  6 -1]\n",
      "is np.dot(Xt[i], wt) * Yt[i] <= 0?:  -6.0\n",
      "Updated weights:  [1. 6. 5.]\n",
      "Xt[3]:  [ 2  4 -1]\n",
      "is np.dot(Xt[i], wt) * Yt[i] <= 0?:  21.0\n",
      "Xt[4]:  [ 6  2 -1]\n",
      "is np.dot(Xt[i], wt) * Yt[i] <= 0?:  13.0\n",
      "\n",
      "epoch[6]\n",
      "Xt[0]:  [-2  4 -1]\n",
      "is np.dot(Xt[i], wt) * Yt[i] <= 0?:  -17.0\n",
      "Updated weights:  [3. 2. 6.]\n",
      "Xt[1]:  [ 4  1 -1]\n",
      "is np.dot(Xt[i], wt) * Yt[i] <= 0?:  -8.0\n",
      "Updated weights:  [-1.  1.  7.]\n",
      "Xt[2]:  [ 1  6 -1]\n",
      "is np.dot(Xt[i], wt) * Yt[i] <= 0?:  -2.0\n",
      "Updated weights:  [0. 7. 6.]\n",
      "Xt[3]:  [ 2  4 -1]\n",
      "is np.dot(Xt[i], wt) * Yt[i] <= 0?:  22.0\n",
      "Xt[4]:  [ 6  2 -1]\n",
      "is np.dot(Xt[i], wt) * Yt[i] <= 0?:  8.0\n",
      "\n",
      "epoch[7]\n",
      "Xt[0]:  [-2  4 -1]\n",
      "is np.dot(Xt[i], wt) * Yt[i] <= 0?:  -22.0\n",
      "Updated weights:  [2. 3. 7.]\n",
      "Xt[1]:  [ 4  1 -1]\n",
      "is np.dot(Xt[i], wt) * Yt[i] <= 0?:  -4.0\n",
      "Updated weights:  [-2.  2.  8.]\n",
      "Xt[2]:  [ 1  6 -1]\n",
      "is np.dot(Xt[i], wt) * Yt[i] <= 0?:  2.0\n",
      "Xt[3]:  [ 2  4 -1]\n",
      "is np.dot(Xt[i], wt) * Yt[i] <= 0?:  -4.0\n",
      "Updated weights:  [0. 6. 7.]\n",
      "Xt[4]:  [ 6  2 -1]\n",
      "is np.dot(Xt[i], wt) * Yt[i] <= 0?:  5.0\n",
      "\n",
      "epoch[8]\n",
      "Xt[0]:  [-2  4 -1]\n",
      "is np.dot(Xt[i], wt) * Yt[i] <= 0?:  -17.0\n",
      "Updated weights:  [2. 2. 8.]\n",
      "Xt[1]:  [ 4  1 -1]\n",
      "is np.dot(Xt[i], wt) * Yt[i] <= 0?:  -2.0\n",
      "Updated weights:  [-2.  1.  9.]\n",
      "Xt[2]:  [ 1  6 -1]\n",
      "is np.dot(Xt[i], wt) * Yt[i] <= 0?:  -5.0\n",
      "Updated weights:  [-1.  7.  8.]\n",
      "Xt[3]:  [ 2  4 -1]\n",
      "is np.dot(Xt[i], wt) * Yt[i] <= 0?:  18.0\n",
      "Xt[4]:  [ 6  2 -1]\n",
      "is np.dot(Xt[i], wt) * Yt[i] <= 0?:  0.0\n",
      "Updated weights:  [5. 9. 7.]\n",
      "\n",
      "epoch[9]\n",
      "Xt[0]:  [-2  4 -1]\n",
      "is np.dot(Xt[i], wt) * Yt[i] <= 0?:  -19.0\n",
      "Updated weights:  [7. 5. 8.]\n",
      "Xt[1]:  [ 4  1 -1]\n",
      "is np.dot(Xt[i], wt) * Yt[i] <= 0?:  -25.0\n",
      "Updated weights:  [3. 4. 9.]\n",
      "Xt[2]:  [ 1  6 -1]\n",
      "is np.dot(Xt[i], wt) * Yt[i] <= 0?:  18.0\n",
      "Xt[3]:  [ 2  4 -1]\n",
      "is np.dot(Xt[i], wt) * Yt[i] <= 0?:  13.0\n",
      "Xt[4]:  [ 6  2 -1]\n",
      "is np.dot(Xt[i], wt) * Yt[i] <= 0?:  17.0\n",
      "[3. 4. 9.]\n"
     ]
    }
   ],
   "source": [
    "w = perceptron_sgd(X, y, epochs = 10)\n",
    "print(w)"
   ]
  },
  {
   "cell_type": "markdown",
   "metadata": {
    "id": "t-bVPkYmTtBE"
   },
   "source": [
    "Did it work? Let's check the decision boundary (hyperplane) and try some predictions:"
   ]
  },
  {
   "cell_type": "code",
   "execution_count": 7,
   "metadata": {
    "ExecuteTime": {
     "end_time": "2019-05-08T08:27:34.651008Z",
     "start_time": "2019-05-08T08:27:34.377160Z"
    },
    "id": "r7mGWtPfTtBF"
   },
   "outputs": [
    {
     "data": {
      "text/plain": [
       "<matplotlib.collections.PathCollection at 0x26594215ca0>"
      ]
     },
     "execution_count": 7,
     "metadata": {},
     "output_type": "execute_result"
    },
    {
     "data": {
      "image/png": "[encoded data removed]",
      "text/plain": [
       "<Figure size 432x288 with 1 Axes>"
      ]
     },
     "metadata": {
      "needs_background": "light"
     },
     "output_type": "display_data"
    }
   ],
   "source": [
    "def plotHyperplane(wt):\n",
    "\n",
    "    xx = np.linspace(-2,6)\n",
    "    yy = (-wt[0]*xx + wt[2])/wt[1]\n",
    "    plt.plot(xx, yy, color='orange')\n",
    "    \n",
    "#plotData(X)\n",
    "plotHyperplane(w)\n",
    "\n",
    "# Test samples:\n",
    "plt.scatter(2, 2, s = 120, marker = '_', linewidths = 2, color = 'red')\n",
    "plt.scatter(4, 3, s = 120, marker = '+', linewidths = 2, color = 'red')    "
   ]
  },
  {
   "cell_type": "markdown",
   "metadata": {
    "id": "UP9Ce-hxTtBH"
   },
   "source": [
    "So far, all of the negatively labelled points are misclassified! \n",
    "\n",
    "Let's a look at how the model training actually proceeds. The error at each epoch is calculated using a hinge-loss function:"
   ]
  },
  {
   "cell_type": "code",
   "execution_count": 8,
   "metadata": {
    "ExecuteTime": {
     "end_time": "2019-05-08T08:28:37.761923Z",
     "start_time": "2019-05-08T08:28:37.416555Z"
    },
    "id": "Nj0rgwdWTtBI"
   },
   "outputs": [
    {
     "name": "stdout",
     "output_type": "stream",
     "text": [
      "[3. 4. 9.]\n"
     ]
    },
    {
     "data": {
      "image/png": "[encoded data removed]",
      "text/plain": [
       "<Figure size 432x288 with 1 Axes>"
      ]
     },
     "metadata": {
      "needs_background": "light"
     },
     "output_type": "display_data"
    }
   ],
   "source": [
    "def perceptron_sgd_plot(Xt, Yt, eta = 1, epochs = 10):\n",
    "\n",
    "    wt = np.zeros(len(Xt[0]))\n",
    "    errors = []\n",
    "\n",
    "    for t in range(epochs):\n",
    "        total_error = 0\n",
    "        for i, x in enumerate(Xt):\n",
    "            if (np.dot(Xt[i], wt) * Yt[i]) <= 0:\n",
    "                total_error += (np.dot(Xt[i], wt) * Yt[i])\n",
    "                wt += eta * Xt[i] * Yt[i]\n",
    "        errors.append(total_error * (-1))\n",
    "        \n",
    "    plt.plot(errors)\n",
    "    plt.xlabel('Epoch')\n",
    "    plt.ylabel('Total Loss')\n",
    "    \n",
    "    return wt\n",
    "\n",
    "print(perceptron_sgd_plot(X, y))"
   ]
  },
  {
   "cell_type": "markdown",
   "metadata": {
    "id": "KQHKxWwPTtBL"
   },
   "source": [
    "So, 10 epochs clearly wasn't enough for the SGD algorithm to converge. \n",
    "\n",
    "Try a increasing `epochs` until the error goes to zero, then replot the test data and decision boundary:"
   ]
  },
  {
   "cell_type": "code",
   "execution_count": 9,
   "metadata": {
    "id": "unHdQjgETtBL"
   },
   "outputs": [
    {
     "name": "stdout",
     "output_type": "stream",
     "text": [
      "[ 2.  3. 13.]\n"
     ]
    },
    {
     "data": {
      "image/png": "[encoded data removed]",
      "text/plain": [
       "<Figure size 432x288 with 1 Axes>"
      ]
     },
     "metadata": {
      "needs_background": "light"
     },
     "output_type": "display_data"
    }
   ],
   "source": [
    "#?\n",
    "w = perceptron_sgd_plot(X, y, epochs = 16)\n",
    "print(w)"
   ]
  },
  {
   "cell_type": "code",
   "execution_count": 10,
   "metadata": {
    "id": "gV9DO1-mTtBO"
   },
   "outputs": [
    {
     "data": {
      "text/plain": [
       "<matplotlib.collections.PathCollection at 0x2659433a7c0>"
      ]
     },
     "execution_count": 10,
     "metadata": {},
     "output_type": "execute_result"
    },
    {
     "data": {
      "image/png": "[encoded data removed]",
      "text/plain": [
       "<Figure size 432x288 with 1 Axes>"
      ]
     },
     "metadata": {
      "needs_background": "light"
     },
     "output_type": "display_data"
    }
   ],
   "source": [
    "#?\n",
    "plotHyperplane(w)\n",
    "\n",
    "plt.scatter(2, 2, s = 120, marker = '_', linewidths = 2, color = 'red')\n",
    "plt.scatter(4, 3, s = 120, marker = '+', linewidths = 2, color = 'red')    "
   ]
  },
  {
   "cell_type": "markdown",
   "metadata": {
    "id": "Hp-B7PMATtBQ"
   },
   "source": [
    "Show how to manually compute class membership for a new data point Xi = [3.5, 3.3] using just the weights determined above:"
   ]
  },
  {
   "cell_type": "code",
   "execution_count": null,
   "metadata": {
    "id": "9AqWg7UDTtBR"
   },
   "outputs": [],
   "source": [
    "#?\n",
    "errors = []\n",
    "\n",
    "total_error = 0\n",
    "Xi = np.array([3.5, 3.3, -1])\n",
    "y = np.array([-1])\n",
    "\n",
    "print(type(Xi))\n",
    "print(type(y))\n",
    "print(type(w))\n",
    "\n",
    "if (np.dot(Xi, w) * y) <= 0:\n",
    "    total_error += (np.dot(Xi, w) * y)\n",
    "    errors.append(total_error * (-1))\n",
    "        \n",
    "plt.plot(errors)\n",
    "plt.ylabel('Total Loss')"
   ]
  },
  {
   "cell_type": "code",
   "execution_count": null,
   "metadata": {
    "id": "8J6Os9kSTtBT"
   },
   "outputs": [],
   "source": [
    "#TEST: make sure the training data get correctly classified:\n",
    "\n",
    "#?\n",
    "plotHyperplane(w)\n",
    "plt.scatter(2, 2, s = 120, marker = '_', linewidths = 2, color = 'red')\n",
    "plt.scatter(4, 3, s = 120, marker = '+', linewidths = 2, color = 'red')   "
   ]
  },
  {
   "cell_type": "markdown",
   "metadata": {
    "id": "UnscrVD3TtBU"
   },
   "source": [
    "## === End ==="
   ]
  },
  {
   "cell_type": "markdown",
   "metadata": {
    "id": "RERADKgNFq9T"
   },
   "source": [
    "\n",
    "\n",
    "---\n",
    "\n",
    "\n",
    "\n",
    "---\n",
    "\n",
    "\n",
    "\n",
    "> > > > > > > > > © 2021 Institute of Data\n",
    "\n",
    "\n",
    "---\n",
    "\n",
    "\n",
    "\n",
    "---\n",
    "\n",
    "\n",
    "\n"
   ]
  }
 ],
 "metadata": {
  "colab": {
   "collapsed_sections": [],
   "name": "Lab 5.2 The Perceptron.ipynb",
   "provenance": []
  },
  "kernelspec": {
   "display_name": "Python 3",
   "language": "python",
   "name": "python3"
  },
  "language_info": {
   "codemirror_mode": {
    "name": "ipython",
    "version": 3
   },
   "file_extension": ".py",
   "mimetype": "text/x-python",
   "name": "python",
   "nbconvert_exporter": "python",
   "pygments_lexer": "ipython3",
   "version": "3.8.8"
  },
  "varInspector": {
   "cols": {
    "lenName": 16,
    "lenType": 16,
    "lenVar": 40
   },
   "kernels_config": {
    "python": {
     "delete_cmd_postfix": "",
     "delete_cmd_prefix": "del ",
     "library": "var_list.py",
     "varRefreshCmd": "print(var_dic_list())"
    },
    "r": {
     "delete_cmd_postfix": ") ",
     "delete_cmd_prefix": "rm(",
     "library": "var_list.r",
     "varRefreshCmd": "cat(var_dic_list()) "
    }
   },
   "types_to_exclude": [
    "module",
    "function",
    "builtin_function_or_method",
    "instance",
    "_Feature"
   ],
   "window_display": false
  }
 },
 "nbformat": 4,
 "nbformat_minor": 1
}
