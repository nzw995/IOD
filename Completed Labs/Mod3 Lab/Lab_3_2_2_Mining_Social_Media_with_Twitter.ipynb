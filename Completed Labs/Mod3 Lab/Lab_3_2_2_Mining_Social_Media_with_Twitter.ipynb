{
 "cells": [
  {
   "cell_type": "markdown",
   "metadata": {
    "id": "XfnQYVMtJhQD"
   },
   "source": [
    "<div>\n",
    "<img src=https://www.institutedata.com/wp-content/uploads/2019/10/iod_h_tp_primary_c.svg width=\"300\">\n",
    "</div>\n"
   ]
  },
  {
   "cell_type": "markdown",
   "metadata": {
    "id": "5dCt8XbjJhQG"
   },
   "source": [
    "# Lab 3.2.2 \n",
    "# *Mining Social Media with Twitter*"
   ]
  },
  {
   "cell_type": "markdown",
   "metadata": {
    "id": "b5VfS9hhJhQI"
   },
   "source": [
    "## The Twitter API and Tweepy Package"
   ]
  },
  {
   "cell_type": "markdown",
   "metadata": {
    "id": "lF2z-w5uJhQK"
   },
   "source": [
    "The Twitter API provides access to tweets and comments, and allows an application to post tweets to the user's timeline. \n",
    "\n",
    "Twitter requires developers to create and authenticate an app before they can use the API. As of recent policy changes, however, new developers must be approved before they can create an app. There is no indication of the waiting period for approval."
   ]
  },
  {
   "cell_type": "markdown",
   "metadata": {
    "id": "M0wxJ8HNJhQM"
   },
   "source": [
    "### 1. Apply for Developer Access\n",
    "\n",
    "Go to https://blog.twitter.com/developer/en_us/topics/tools/2018/new-developer-requirements-to-protect-our-platform.html\n",
    "and read the advice.\n"
   ]
  },
  {
   "cell_type": "markdown",
   "metadata": {
    "id": "tICSKwL1JhQN"
   },
   "source": [
    "Apply at https://developer.twitter.com/en/apply-for-access.html. Where asked state that you will use the app as a student to explore the tweepy Python library and use it to fetch recent tweets and to create/delete a tweet."
   ]
  },
  {
   "cell_type": "markdown",
   "metadata": {
    "id": "NMeZ70IZJhQR"
   },
   "source": [
    "### 2. Create Your Twitter App\n",
    "Go to https://developer.twitter.com/en/portal/projects-and-apps and click on the \"+ Create App\" button. Give your app a name and then you will be able to generate Consumer Keys (API key & secret) and Authentication Tokens (Access token & secret). Copy-paste these authentication details for use in this lab."
   ]
  },
  {
   "cell_type": "markdown",
   "metadata": {
    "id": "HpWMHz9NJhQS"
   },
   "source": [
    "### 3. Load Python Libraries"
   ]
  },
  {
   "cell_type": "code",
   "execution_count": 20,
   "metadata": {},
   "outputs": [
    {
     "name": "stdout",
     "output_type": "stream",
     "text": [
      "Requirement already satisfied: tweepy in f:\\anaconda3\\lib\\site-packages (3.10.0)\n",
      "Requirement already satisfied: requests-oauthlib>=0.7.0 in f:\\anaconda3\\lib\\site-packages (from tweepy) (1.3.0)\n",
      "Requirement already satisfied: six>=1.10.0 in f:\\anaconda3\\lib\\site-packages (from tweepy) (1.15.0)\n",
      "Requirement already satisfied: requests[socks]>=2.11.1 in f:\\anaconda3\\lib\\site-packages (from tweepy) (2.25.1)\n",
      "Requirement already satisfied: oauthlib>=3.0.0 in f:\\anaconda3\\lib\\site-packages (from requests-oauthlib>=0.7.0->tweepy) (3.1.0)\n",
      "Requirement already satisfied: certifi>=2017.4.17 in f:\\anaconda3\\lib\\site-packages (from requests[socks]>=2.11.1->tweepy) (2020.12.5)\n",
      "Requirement already satisfied: idna<3,>=2.5 in f:\\anaconda3\\lib\\site-packages (from requests[socks]>=2.11.1->tweepy) (2.10)\n",
      "Requirement already satisfied: urllib3<1.27,>=1.21.1 in f:\\anaconda3\\lib\\site-packages (from requests[socks]>=2.11.1->tweepy) (1.26.4)\n",
      "Requirement already satisfied: chardet<5,>=3.0.2 in f:\\anaconda3\\lib\\site-packages (from requests[socks]>=2.11.1->tweepy) (4.0.0)\n",
      "Requirement already satisfied: PySocks!=1.5.7,>=1.5.6 in f:\\anaconda3\\lib\\site-packages (from requests[socks]>=2.11.1->tweepy) (1.7.1)\n"
     ]
    }
   ],
   "source": [
    "!pip install tweepy"
   ]
  },
  {
   "cell_type": "code",
   "execution_count": 21,
   "metadata": {
    "id": "16hb8EpNJhQU"
   },
   "outputs": [],
   "source": [
    "import tweepy\n",
    "import json\n",
    "import pprint"
   ]
  },
  {
   "cell_type": "markdown",
   "metadata": {
    "id": "p7W0se6_JhQX"
   },
   "source": [
    "### 4. Authenticate from your Python script"
   ]
  },
  {
   "cell_type": "markdown",
   "metadata": {
    "id": "mJfe55dVJhQY"
   },
   "source": [
    "You could assign your authentication details explicitly, as follows:"
   ]
  },
  {
   "cell_type": "code",
   "execution_count": 22,
   "metadata": {
    "id": "aygW7a3eJhQZ"
   },
   "outputs": [],
   "source": [
    "consumer_key = 'PMvHceUygaM80OnM4TlfXYdum'      # your consumer key (string) goes in here\n",
    "consumer_secret = 'Px7MBIvVujBa1BOWiQ4TqIWu92tb22SW7Da1evoVtiR6y2k641'   # your consumer secret key (string) goes in here\n",
    "access_token = '2449243123-feXTSt5XMvR7w0dq7PXeMqbfoL8mWFHYBuh6DOf'      # your access token (string) goes in here\n",
    "access_token_secret = '0AIgPDLZQAGafkTBu41IHAO5c5C39qfZkf1o1nT176FOz'  # your access token secret (string) goes in here"
   ]
  },
  {
   "cell_type": "markdown",
   "metadata": {
    "id": "7LXwmSzOJhQe"
   },
   "source": [
    "A better way would be to store these details externally, so they are not displayed in the notebook:\n",
    "\n",
    "- create a file called \"auth_twitter.json\" in your \"notebooks\" directory, and save your credentials there in JSON format:\n",
    "\n",
    "`{`<br>\n",
    "&nbsp;&nbsp;&nbsp;&nbsp;&nbsp;&nbsp;&nbsp;&nbsp;`   \"consumer_key\": \"your consumer key (string) goes in here\",` <br>\n",
    "&nbsp;&nbsp;&nbsp;&nbsp;&nbsp;&nbsp;&nbsp;&nbsp;` \"consumer_secret\": \"your consumer secret key (string) goes in here\",` <br>\n",
    "&nbsp;&nbsp;&nbsp;&nbsp;&nbsp;&nbsp;&nbsp;&nbsp;`\"access_token\": \"your access token (string) goes in here\",` <br>\n",
    "&nbsp;&nbsp;&nbsp;&nbsp;&nbsp;&nbsp;&nbsp;&nbsp;`\"access_token_secret\": \"your access token secret (string) goes in here\"` <br>\n",
    "`}`\n",
    "\n",
    "(Nb. Parsers are very fussy. Make sure each key:value pair has a comma after it except the last one!)  \n",
    "\n",
    "Use the following code to load the credentials:  "
   ]
  },
  {
   "cell_type": "code",
   "execution_count": 23,
   "metadata": {
    "id": "kh2srKpzJhQh"
   },
   "outputs": [
    {
     "data": {
      "text/plain": [
       "'C:\\\\Users\\\\zhiwe\\\\OneDrive\\\\IOD\\\\Mod3 Lab'"
      ]
     },
     "execution_count": 23,
     "metadata": {},
     "output_type": "execute_result"
    }
   ],
   "source": [
    "pwd()  # make sure your working directory is where the file is"
   ]
  },
  {
   "cell_type": "code",
   "execution_count": 24,
   "metadata": {
    "id": "uR8Vchz7JhQm"
   },
   "outputs": [],
   "source": [
    "path_auth = 'auth/auth_twitter.json'\n",
    "auth = json.loads(open(path_auth).read())\n",
    "pp = pprint.PrettyPrinter(indent=4)\n",
    "# For debugging only:\n",
    "#pp.pprint(auth)\n",
    "\n",
    "consumer_key = auth['consumer_key']\n",
    "consumer_secret = auth['consumer_secret']\n",
    "access_token = auth['access_token']\n",
    "access_token_secret = auth['access_token_secret']"
   ]
  },
  {
   "cell_type": "code",
   "execution_count": 25,
   "metadata": {},
   "outputs": [
    {
     "name": "stdout",
     "output_type": "stream",
     "text": [
      "{   'access_token': '2449243123-feXTSt5XMvR7w0dq7PXeMqbfoL8mWFHYBuh6DOf',\n",
      "    'access_token_secret': '0AIgPDLZQAGafkTBu41IHAO5c5C39qfZkf1o1nT176FOz',\n",
      "    'consumer_key': 'PMvHceUygaM80OnM4TlfXYdum',\n",
      "    'consumer_secret': 'Px7MBIvVujBa1BOWiQ4TqIWu92tb22SW7Da1evoVtiR6y2k641'}\n"
     ]
    }
   ],
   "source": [
    "# For debugging only:\n",
    "pp.pprint(auth)"
   ]
  },
  {
   "cell_type": "markdown",
   "metadata": {
    "id": "GPRmYZigJhQp"
   },
   "source": [
    "Security considerations: \n",
    "- this method only keeps your credentials invisible as long as nobody accesses this notebook while it's running on your computer \n",
    "- if you wanted another user to have access to the executable notebook without divulging your credentials you should set up an OAuth 2.0 workflow to let them obtain and apply their own API tokens when using your app\n",
    "- if you just want to share your analyses, you could use a separate script (which you don't share) to fetch the data and save it locally, then use a second notebook (with no API access) to load and analyse the locally stored data"
   ]
  },
  {
   "cell_type": "markdown",
   "metadata": {
    "id": "Ln30k0pZJhQp"
   },
   "source": [
    "### 5. Exploring the API"
   ]
  },
  {
   "cell_type": "markdown",
   "metadata": {
    "id": "6fsc0U1nJhQq"
   },
   "source": [
    "Here is how to connect to Twitter using the Tweepy library:"
   ]
  },
  {
   "cell_type": "code",
   "execution_count": 26,
   "metadata": {
    "id": "-y_4GBx1JhQr"
   },
   "outputs": [],
   "source": [
    "auth = tweepy.OAuthHandler(consumer_key, consumer_secret)\n",
    "auth.set_access_token(access_token, access_token_secret)\n",
    "api = tweepy.API(auth)"
   ]
  },
  {
   "cell_type": "markdown",
   "metadata": {
    "id": "wSKzR9LdJhQu"
   },
   "source": [
    "In the next cell, put the cursor after the '.' and hit the [tab] key to see the available members and methods in the response object:"
   ]
  },
  {
   "cell_type": "code",
   "execution_count": 27,
   "metadata": {
    "id": "BfnAOR2bJhQv"
   },
   "outputs": [],
   "source": [
    "#api."
   ]
  },
  {
   "cell_type": "markdown",
   "metadata": {
    "id": "DcJ-cc6zJhQz"
   },
   "source": [
    "Consult the Tweept and Twitter API documentation. Print a few of the response members below:"
   ]
  },
  {
   "cell_type": "code",
   "execution_count": 28,
   "metadata": {
    "id": "W_IKqMAQJhQ1"
   },
   "outputs": [
    {
     "name": "stdout",
     "output_type": "stream",
     "text": [
      "RT @SanjanaRavicha9: @MamataOfficial\n",
      "@drharshvardhan\n",
      "AIIMS has announced INICET exam for admission to MD/MS exam suddenly on June 16.PMO sa…\n",
      "RT @TrulyMonica: What journalist Rana Ayyub has committed in the name of Covid relief is nothing but a huge scam! \n",
      "\n",
      "- Donation worth crores…\n",
      "RT @JoongAngDaily: Korea confirmed its first case of an unusual type of blood clotting in a young man who got an AstraZeneca Covid-19 shot.…\n",
      "RT @LiveLawIndia: \"You Want Us To Shut Our Eyes. You Can't Take Us For a Ride\": Delhi HC Pulls Up Drug Controller For Dissatisfactory Probe…\n",
      "El país recuperó el 77 % de los empleos perdidos por el COVID https://t.co/hZN0VfqUpd\n",
      "RT @SkyNewsAust: Spiked Online Editor Brendan O’Neill says Facebook was “globalising Chinese-style censorship” in banning suggestions COVID…\n",
      "RT @BBMPCOMM: ಕೋವಿಡ್ ರೋಗಿಗಳಿಗಾಗಿ ಸಹಾಯವಾಣಿ ಸಂಖ್ಯೆಗಳು ಇಲ್ಲಿವೆ. ದಯವಿಟ್ಟು ಇತರರೊಂದಿಗೆ ಹಂಚಿಕೊಳ್ಳಿ. ಜಾಗರೂಕರಾಗಿರಿ, ಭಯ ಪಡದಿರಿ.\n",
      "\n",
      "Here are the helplin…\n",
      "RT @Craig_A_Spencer: Just leaving a long day in the ER.\n",
      "\n",
      "Today marks 4 shifts in a row without a single Covid case.\n",
      "\n",
      "It’s much better like…\n",
      "RT @alok_pandey: Distressing visuals from UP’s Sant Kabir Nagar where a family used a JCB to transport body of father who died from covid t…\n",
      "RT @abc730: Even before Australia’s COVID vaccination campaign had begun, the government was winding back its targets – and an ABC analysis…\n",
      "RT @MJibranNasir: It is not just @shafqat_mahmood of PTI but all provincial ministers including @SaeedGhani1 of PPP who failed to develop a…\n",
      "RT @EU_Social: Migrant workers are more exposed to #COVID19.\n",
      "\n",
      "This is because they often have jobs where:\n",
      "🔹 working from home isn't possibl…\n",
      "RT @redzuanNewsMPB: Individu yang ada janji temu untuk menerima suntikan vaksin COVID-19, tidak perlu surat kebenaran PDRM.\n",
      "\n",
      "Sebaliknya han…\n",
      "RT @TrashtalkingSam: J'ai rédigé un petit article pour le blog du projet ANR consacré aux questions éthiques et épistémologiques de la pand…\n",
      "RT @williamnhutton: Johnson so wanted Indian trade deal partly to plug gaping hole in UK trade left by Brexit he repeated the fatal indecis…\n"
     ]
    }
   ],
   "source": [
    "searches = api.search('covid')\n",
    "for search in searches:\n",
    "    print(search.text)"
   ]
  },
  {
   "cell_type": "markdown",
   "metadata": {
    "id": "dLkdLKjLJhQ3"
   },
   "source": [
    "This will fetch recent tweets from accounts you follow:"
   ]
  },
  {
   "cell_type": "code",
   "execution_count": 29,
   "metadata": {
    "id": "l9y8t3X7JhQ4"
   },
   "outputs": [
    {
     "name": "stdout",
     "output_type": "stream",
     "text": [
      "Completely delete your Facebook account, loose ends and all https://t.co/TZbnxzbrqs\n",
      "From Razer to SteelSeries, here are the best PS5 gaming headsets to grab for 2021! https://t.co/m4pDO6dI9o https://t.co/F9vV9RU1lc\n",
      "Test, Trace, Vaccinate. These are 3 things that we have to do more, and do faster, in the next phase of the fight a… https://t.co/VCfLnuf2mO\n",
      "Nuclear reactions are increasing in an inaccessible chamber at Chernobyl https://t.co/uYDKpr6Iit\n",
      "RT @MOODYZ_official: ⚡️ブルルン⚡️ブルルン⚡️\n",
      "\n",
      "八木奈々ちゃんライブチャットに登場したオトナなグッズ🔞💕はこちら⏬\n",
      "\n",
      "☑️NAKA-IKI VIBE 81\n",
      "https://t.co/CdJrhobVSJ\n",
      "\n",
      "☑️遠隔絶頂 TSUN-TSUN CUNNI…\n",
      "RT @HuaweiMobile: Power on your #HUAWEIMateStationS and log in with a single touch on the HUAWEI Wired Keyboard With Fingerprint.​\n",
      "\n",
      "Learn m…\n",
      "I miss you, Korea, all the good food 🥲 Fresh seafood, 간장게장, 주꾸미... 아ㅏㅏㅏ 먹고 싶어 #throwback https://t.co/DPCKcwhamG\n",
      "【期間限定マルチバトル開催！】\n",
      "\n",
      "マルチバトルに「ドランソード」が期間限定で登場！\n",
      "\n",
      "なんと「英傑章集め」のクエストがクエストスキップ可能！\n",
      "\n",
      "「限界突破ボード」の素材を手に入れることができますので、ぜひ挑戦してみてくださいね！… https://t.co/cG0rLb6auP\n",
      "Would you still want to go to Mars? https://t.co/4k2EZt10jL\n",
      "The Bidens look enormous in viral photo with the Carters. Here's why https://t.co/bsZX4tP6f3\n",
      "E3 2021 has added 15 more companies that will participate, and we can expect a programming schedule in early June!… https://t.co/yswFL7V6xC\n",
      ".@NVIDIAGeForce will be live tomorrow June 1, 10 PM (PDT) with some announcements for their Computex Keynote 👀\n",
      "There's no #ICYMI today because of that glorious bank holiday 🏖️\n",
      "\n",
      "Use the time to catch up with the rest of our… https://t.co/zzEZR7xAkq\n",
      "【祝全世界500万DL突破記念地・闇属性限定ステップアップ召喚開催！】\n",
      "\n",
      "登場するSSRメモリアストーンが全て地属性、闇属性のみとなる召喚です！\n",
      "召喚するたびにSTEPが進み、各STEPで特典が受けられます♪\n",
      "\n",
      "■STEP2：無料… https://t.co/mbA6zSL06U\n",
      "Take care of #business with the ultraslim, ultralight and ultrapowerful #ExpertBook #B9 (B9400CEAV) laptop💻\n",
      "It help… https://t.co/uQ0lQShcJd\n",
      "✨新ユニット登場記念✨\n",
      "「神徒ラブラ役  #折笠富美子 さんサイン入りオリジナル色紙」を4名様にプレゼント🎁\n",
      "公式Twitter（@lastcloudia）をフォロー＆この投稿をRTで応募完了です！\n",
      "ぜひたくさんのご応募をお待ちし… https://t.co/mdb1mCcQOA\n",
      "Sorry, y'all. We just don't have the attention span. https://t.co/ALbpGbiJDF\n",
      "【限定クエスト開催！】\n",
      "\n",
      "限定クエスト「あれは良き白？悪しき白？」を開催中です！\n",
      "\n",
      "限定メモリアストーン「[SSR]リカルド【あれは良き白？悪しき白？】」「[SR]エステル【あれは良き白？悪しき白？】」を入手できるチャンス！\n",
      "\n",
      "※… https://t.co/yzC7blr5f7\n",
      "【お知らせ】\n",
      "大変お待たせいたしました🙇‍♀️\n",
      "本キャンペーンの特典については、6月3日のメンテナンス後に【プレゼントBOX】よりお受け取りください💎✨\n",
      "皆さまご参加いただきありがとうございました。\n",
      "なお、現在「配信者ランキング」… https://t.co/nfSmQVYcJM\n",
      "If HBO Max changed these 5 things, we'd watch it all the time https://t.co/FQ3pF5rHag\n"
     ]
    }
   ],
   "source": [
    "# Recent tweets from accounts you follow:\n",
    "tweets = api.home_timeline()\n",
    "for tweet in tweets:\n",
    "    print(tweet.text)"
   ]
  },
  {
   "cell_type": "markdown",
   "metadata": {
    "id": "k2NpPlOIJhQ6"
   },
   "source": [
    "The request to see your own recent tweets is similar, but uses the `user_timeline` endpoint. Try this below:"
   ]
  },
  {
   "cell_type": "code",
   "execution_count": 30,
   "metadata": {
    "id": "QMlhdx5NJhQ6"
   },
   "outputs": [
    {
     "name": "stdout",
     "output_type": "stream",
     "text": [
      "LIAN LI 2021 Digital Expo Giveaway https://t.co/rAlxMEYN1r\n",
      "LIAN LI 2021 Digital Expo Giveaway https://t.co/rAlxMEYN1r\n",
      "RT @GlobalLianli: T-7 the LIAN LI 2021 DIGITAL EXPO! Set your alarm to Feb.18th 9AM EST, or subscribe to our YouTube channel here https://t…\n",
      "#DeliverUsTheMoonRTX via @PlayrGG\n",
      "RT @WiredP: It's #RTXon in Deliver Us The Moon 🚀\n",
      "\n",
      "Join our live stream for a chance to win prizes like @NVIDIAGeForce RTX Cards and even an…\n",
      "RT @Kephrii: Welcome to my Christmas giveaway!\n",
      "\n",
      "😍 1-Year Supply of @GFuelEnergy\n",
      "🤑 Lvl 3 Backpack from @MetaThreads\n",
      "🎦 HD60 S Cap Card from @…\n",
      "Overthinking creature\n",
      "RT @Blackalogy: If it's war you want, it's silent treatment you'll get.\n",
      "Hello\n",
      "Yo people\n",
      "steam-wallet-cards - share your unique link and get free Steam Wallet cards! http://t.co/TAgzDyuM3y\n"
     ]
    }
   ],
   "source": [
    "# Recent tweets from accounts you follow:\n",
    "my_tweets = api.user_timeline()\n",
    "for my_tweet in my_tweets:\n",
    "    print(my_tweet.text)"
   ]
  },
  {
   "cell_type": "markdown",
   "metadata": {
    "id": "qY7oM-lJJhQ8"
   },
   "source": [
    "Now, instead of printing the text of each tweet, print the `created_at` and `id_str` methods:"
   ]
  },
  {
   "cell_type": "code",
   "execution_count": 31,
   "metadata": {
    "id": "aUOlNdG8JhQ9"
   },
   "outputs": [
    {
     "name": "stdout",
     "output_type": "stream",
     "text": [
      "2021-02-20 06:21:44 1363010932218028036\n",
      "2021-02-20 06:21:08 1363010779524423684\n",
      "2021-02-20 06:19:10 1363010288358858752\n",
      "2019-12-22 22:42:30 1208880519066181633\n",
      "2019-12-22 22:41:50 1208880350849404928\n",
      "2019-12-22 22:37:50 1208879344434565120\n",
      "2015-02-09 06:21:08 564670312181006337\n",
      "2015-01-22 16:46:52 558304803579641856\n",
      "2014-07-01 01:38:05 483786587734413313\n",
      "2014-07-01 01:37:23 483786411095498752\n",
      "2014-05-05 09:49:13 463254078135365633\n"
     ]
    }
   ],
   "source": [
    "# Recent tweets from accounts you follow:\n",
    "my_tweets = api.user_timeline()\n",
    "for my_tweet in my_tweets:\n",
    "    print(my_tweet.created_at , my_tweet.id_str)"
   ]
  },
  {
   "cell_type": "markdown",
   "metadata": {
    "id": "3PibchrmJhQ-"
   },
   "source": [
    "You can create a tweet as follows:"
   ]
  },
  {
   "cell_type": "code",
   "execution_count": 32,
   "metadata": {
    "id": "IwzTjf1gJhQ_"
   },
   "outputs": [],
   "source": [
    "# create a tweet:\n",
    "tweet = api.update_status('Test: Made with Tweepy')"
   ]
  },
  {
   "cell_type": "markdown",
   "metadata": {
    "id": "TtlXvbjoJhRB"
   },
   "source": [
    "(Nb. Don't abuse this feature! If you try to generate a zillion tweets in a loop, Twitter will ban youur account.)"
   ]
  },
  {
   "cell_type": "markdown",
   "metadata": {
    "id": "awUIiruTJhRB"
   },
   "source": [
    "Tweets can be deleted by reference to their `id_str` attribute:"
   ]
  },
  {
   "cell_type": "code",
   "execution_count": 33,
   "metadata": {
    "id": "tKPSCOEBJhRC"
   },
   "outputs": [],
   "source": [
    "# delete a tweet:\n",
    "status = api.destroy_status(tweet.id_str)"
   ]
  },
  {
   "cell_type": "markdown",
   "metadata": {
    "id": "hEt9NWJBJhRE"
   },
   "source": [
    "You can follow a Tweeter:"
   ]
  },
  {
   "cell_type": "code",
   "execution_count": 34,
   "metadata": {
    "id": "CDWxR8wOJhRF"
   },
   "outputs": [
    {
     "data": {
      "text/plain": [
       "User(_api=<tweepy.api.API object at 0x0000021FE3926C70>, _json={'id': 10228272, 'id_str': '10228272', 'name': 'YouTube', 'screen_name': 'YouTube', 'location': 'San Bruno, CA', 'description': 'Like and subscribe.', 'url': 'https://t.co/qkVaJFk2CG', 'entities': {'url': {'urls': [{'url': 'https://t.co/qkVaJFk2CG', 'expanded_url': 'https://www.youtube.com/', 'display_url': 'youtube.com', 'indices': [0, 23]}]}, 'description': {'urls': []}}, 'protected': False, 'followers_count': 72930905, 'friends_count': 1199, 'listed_count': 79250, 'created_at': 'Tue Nov 13 21:43:46 +0000 2007', 'favourites_count': 5553, 'utc_offset': None, 'time_zone': None, 'geo_enabled': False, 'verified': True, 'statuses_count': 33571, 'lang': None, 'status': {'created_at': 'Mon May 31 05:29:42 +0000 2021', 'id': 1399236626501541889, 'id_str': '1399236626501541889', 'text': 'Step into an intricate miniature room that @rokubunnnoichi crafted in a wall. → https://t.co/1omI0TZIih https://t.co/qSSbRKcRMb', 'truncated': False, 'entities': {'hashtags': [], 'symbols': [], 'user_mentions': [{'screen_name': 'rokubunnnoichi', 'name': 'Mozu', 'id': 3812415620, 'id_str': '3812415620', 'indices': [43, 58]}], 'urls': [{'url': 'https://t.co/1omI0TZIih', 'expanded_url': 'https://yt.be/CAHtb', 'display_url': 'yt.be/CAHtb', 'indices': [80, 103]}], 'media': [{'id': 1399236573942661121, 'id_str': '1399236573942661121', 'indices': [104, 127], 'media_url': 'http://pbs.twimg.com/media/E2sWSwjWUAA2mjr.jpg', 'media_url_https': 'https://pbs.twimg.com/media/E2sWSwjWUAA2mjr.jpg', 'url': 'https://t.co/qSSbRKcRMb', 'display_url': 'pic.twitter.com/qSSbRKcRMb', 'expanded_url': 'https://twitter.com/YouTube/status/1399236626501541889/video/1', 'type': 'photo', 'sizes': {'thumb': {'w': 150, 'h': 150, 'resize': 'crop'}, 'medium': {'w': 1200, 'h': 675, 'resize': 'fit'}, 'small': {'w': 680, 'h': 383, 'resize': 'fit'}, 'large': {'w': 1280, 'h': 720, 'resize': 'fit'}}}]}, 'extended_entities': {'media': [{'id': 1399236573942661121, 'id_str': '1399236573942661121', 'indices': [104, 127], 'media_url': 'http://pbs.twimg.com/media/E2sWSwjWUAA2mjr.jpg', 'media_url_https': 'https://pbs.twimg.com/media/E2sWSwjWUAA2mjr.jpg', 'url': 'https://t.co/qSSbRKcRMb', 'display_url': 'pic.twitter.com/qSSbRKcRMb', 'expanded_url': 'https://twitter.com/YouTube/status/1399236626501541889/video/1', 'type': 'video', 'sizes': {'thumb': {'w': 150, 'h': 150, 'resize': 'crop'}, 'medium': {'w': 1200, 'h': 675, 'resize': 'fit'}, 'small': {'w': 680, 'h': 383, 'resize': 'fit'}, 'large': {'w': 1280, 'h': 720, 'resize': 'fit'}}, 'video_info': {'aspect_ratio': [16, 9], 'duration_millis': 14115, 'variants': [{'bitrate': 832000, 'content_type': 'video/mp4', 'url': 'https://video.twimg.com/amplify_video/1399236573942661121/vid/640x360/EKbGCp7eODtx3T7v.mp4?tag=14'}, {'bitrate': 2176000, 'content_type': 'video/mp4', 'url': 'https://video.twimg.com/amplify_video/1399236573942661121/vid/1280x720/GU6ZY6Lrcw4ApuG1.mp4?tag=14'}, {'bitrate': 288000, 'content_type': 'video/mp4', 'url': 'https://video.twimg.com/amplify_video/1399236573942661121/vid/480x270/oyqdZfMJX3ZuK1wZ.mp4?tag=14'}, {'content_type': 'application/x-mpegURL', 'url': 'https://video.twimg.com/amplify_video/1399236573942661121/pl/OGUsXybFlgbgwPUn.m3u8?tag=14'}]}, 'additional_media_info': {'title': '', 'description': '', 'monetizable': False}}]}, 'source': '<a href=\"https://www.sprinklr.com\" rel=\"nofollow\">Sprinklr</a>', 'in_reply_to_status_id': None, 'in_reply_to_status_id_str': None, 'in_reply_to_user_id': None, 'in_reply_to_user_id_str': None, 'in_reply_to_screen_name': None, 'geo': None, 'coordinates': None, 'place': None, 'contributors': None, 'is_quote_status': False, 'retweet_count': 199, 'favorite_count': 1685, 'favorited': False, 'retweeted': False, 'possibly_sensitive': False, 'lang': 'en'}, 'contributors_enabled': False, 'is_translator': False, 'is_translation_enabled': True, 'profile_background_color': 'AF0000', 'profile_background_image_url': 'http://abs.twimg.com/images/themes/theme14/bg.gif', 'profile_background_image_url_https': 'https://abs.twimg.com/images/themes/theme14/bg.gif', 'profile_background_tile': True, 'profile_image_url': 'http://pbs.twimg.com/profile_images/1398259947847233538/JXNWY7iv_normal.jpg', 'profile_image_url_https': 'https://pbs.twimg.com/profile_images/1398259947847233538/JXNWY7iv_normal.jpg', 'profile_banner_url': 'https://pbs.twimg.com/profile_banners/10228272/1622213815', 'profile_link_color': 'C9191D', 'profile_sidebar_border_color': '000000', 'profile_sidebar_fill_color': 'EFEFEF', 'profile_text_color': '333333', 'profile_use_background_image': True, 'has_extended_profile': False, 'default_profile': False, 'default_profile_image': False, 'following': True, 'follow_request_sent': False, 'notifications': False, 'muting': False, 'translator_type': 'regular', 'withheld_in_countries': []}, id=10228272, id_str='10228272', name='YouTube', screen_name='YouTube', location='San Bruno, CA', description='Like and subscribe.', url='https://t.co/qkVaJFk2CG', entities={'url': {'urls': [{'url': 'https://t.co/qkVaJFk2CG', 'expanded_url': 'https://www.youtube.com/', 'display_url': 'youtube.com', 'indices': [0, 23]}]}, 'description': {'urls': []}}, protected=False, followers_count=72930905, friends_count=1199, listed_count=79250, created_at=datetime.datetime(2007, 11, 13, 21, 43, 46), favourites_count=5553, utc_offset=None, time_zone=None, geo_enabled=False, verified=True, statuses_count=33571, lang=None, status=Status(_api=<tweepy.api.API object at 0x0000021FE3926C70>, _json={'created_at': 'Mon May 31 05:29:42 +0000 2021', 'id': 1399236626501541889, 'id_str': '1399236626501541889', 'text': 'Step into an intricate miniature room that @rokubunnnoichi crafted in a wall. → https://t.co/1omI0TZIih https://t.co/qSSbRKcRMb', 'truncated': False, 'entities': {'hashtags': [], 'symbols': [], 'user_mentions': [{'screen_name': 'rokubunnnoichi', 'name': 'Mozu', 'id': 3812415620, 'id_str': '3812415620', 'indices': [43, 58]}], 'urls': [{'url': 'https://t.co/1omI0TZIih', 'expanded_url': 'https://yt.be/CAHtb', 'display_url': 'yt.be/CAHtb', 'indices': [80, 103]}], 'media': [{'id': 1399236573942661121, 'id_str': '1399236573942661121', 'indices': [104, 127], 'media_url': 'http://pbs.twimg.com/media/E2sWSwjWUAA2mjr.jpg', 'media_url_https': 'https://pbs.twimg.com/media/E2sWSwjWUAA2mjr.jpg', 'url': 'https://t.co/qSSbRKcRMb', 'display_url': 'pic.twitter.com/qSSbRKcRMb', 'expanded_url': 'https://twitter.com/YouTube/status/1399236626501541889/video/1', 'type': 'photo', 'sizes': {'thumb': {'w': 150, 'h': 150, 'resize': 'crop'}, 'medium': {'w': 1200, 'h': 675, 'resize': 'fit'}, 'small': {'w': 680, 'h': 383, 'resize': 'fit'}, 'large': {'w': 1280, 'h': 720, 'resize': 'fit'}}}]}, 'extended_entities': {'media': [{'id': 1399236573942661121, 'id_str': '1399236573942661121', 'indices': [104, 127], 'media_url': 'http://pbs.twimg.com/media/E2sWSwjWUAA2mjr.jpg', 'media_url_https': 'https://pbs.twimg.com/media/E2sWSwjWUAA2mjr.jpg', 'url': 'https://t.co/qSSbRKcRMb', 'display_url': 'pic.twitter.com/qSSbRKcRMb', 'expanded_url': 'https://twitter.com/YouTube/status/1399236626501541889/video/1', 'type': 'video', 'sizes': {'thumb': {'w': 150, 'h': 150, 'resize': 'crop'}, 'medium': {'w': 1200, 'h': 675, 'resize': 'fit'}, 'small': {'w': 680, 'h': 383, 'resize': 'fit'}, 'large': {'w': 1280, 'h': 720, 'resize': 'fit'}}, 'video_info': {'aspect_ratio': [16, 9], 'duration_millis': 14115, 'variants': [{'bitrate': 832000, 'content_type': 'video/mp4', 'url': 'https://video.twimg.com/amplify_video/1399236573942661121/vid/640x360/EKbGCp7eODtx3T7v.mp4?tag=14'}, {'bitrate': 2176000, 'content_type': 'video/mp4', 'url': 'https://video.twimg.com/amplify_video/1399236573942661121/vid/1280x720/GU6ZY6Lrcw4ApuG1.mp4?tag=14'}, {'bitrate': 288000, 'content_type': 'video/mp4', 'url': 'https://video.twimg.com/amplify_video/1399236573942661121/vid/480x270/oyqdZfMJX3ZuK1wZ.mp4?tag=14'}, {'content_type': 'application/x-mpegURL', 'url': 'https://video.twimg.com/amplify_video/1399236573942661121/pl/OGUsXybFlgbgwPUn.m3u8?tag=14'}]}, 'additional_media_info': {'title': '', 'description': '', 'monetizable': False}}]}, 'source': '<a href=\"https://www.sprinklr.com\" rel=\"nofollow\">Sprinklr</a>', 'in_reply_to_status_id': None, 'in_reply_to_status_id_str': None, 'in_reply_to_user_id': None, 'in_reply_to_user_id_str': None, 'in_reply_to_screen_name': None, 'geo': None, 'coordinates': None, 'place': None, 'contributors': None, 'is_quote_status': False, 'retweet_count': 199, 'favorite_count': 1685, 'favorited': False, 'retweeted': False, 'possibly_sensitive': False, 'lang': 'en'}, created_at=datetime.datetime(2021, 5, 31, 5, 29, 42), id=1399236626501541889, id_str='1399236626501541889', text='Step into an intricate miniature room that @rokubunnnoichi crafted in a wall. → https://t.co/1omI0TZIih https://t.co/qSSbRKcRMb', truncated=False, entities={'hashtags': [], 'symbols': [], 'user_mentions': [{'screen_name': 'rokubunnnoichi', 'name': 'Mozu', 'id': 3812415620, 'id_str': '3812415620', 'indices': [43, 58]}], 'urls': [{'url': 'https://t.co/1omI0TZIih', 'expanded_url': 'https://yt.be/CAHtb', 'display_url': 'yt.be/CAHtb', 'indices': [80, 103]}], 'media': [{'id': 1399236573942661121, 'id_str': '1399236573942661121', 'indices': [104, 127], 'media_url': 'http://pbs.twimg.com/media/E2sWSwjWUAA2mjr.jpg', 'media_url_https': 'https://pbs.twimg.com/media/E2sWSwjWUAA2mjr.jpg', 'url': 'https://t.co/qSSbRKcRMb', 'display_url': 'pic.twitter.com/qSSbRKcRMb', 'expanded_url': 'https://twitter.com/YouTube/status/1399236626501541889/video/1', 'type': 'photo', 'sizes': {'thumb': {'w': 150, 'h': 150, 'resize': 'crop'}, 'medium': {'w': 1200, 'h': 675, 'resize': 'fit'}, 'small': {'w': 680, 'h': 383, 'resize': 'fit'}, 'large': {'w': 1280, 'h': 720, 'resize': 'fit'}}}]}, extended_entities={'media': [{'id': 1399236573942661121, 'id_str': '1399236573942661121', 'indices': [104, 127], 'media_url': 'http://pbs.twimg.com/media/E2sWSwjWUAA2mjr.jpg', 'media_url_https': 'https://pbs.twimg.com/media/E2sWSwjWUAA2mjr.jpg', 'url': 'https://t.co/qSSbRKcRMb', 'display_url': 'pic.twitter.com/qSSbRKcRMb', 'expanded_url': 'https://twitter.com/YouTube/status/1399236626501541889/video/1', 'type': 'video', 'sizes': {'thumb': {'w': 150, 'h': 150, 'resize': 'crop'}, 'medium': {'w': 1200, 'h': 675, 'resize': 'fit'}, 'small': {'w': 680, 'h': 383, 'resize': 'fit'}, 'large': {'w': 1280, 'h': 720, 'resize': 'fit'}}, 'video_info': {'aspect_ratio': [16, 9], 'duration_millis': 14115, 'variants': [{'bitrate': 832000, 'content_type': 'video/mp4', 'url': 'https://video.twimg.com/amplify_video/1399236573942661121/vid/640x360/EKbGCp7eODtx3T7v.mp4?tag=14'}, {'bitrate': 2176000, 'content_type': 'video/mp4', 'url': 'https://video.twimg.com/amplify_video/1399236573942661121/vid/1280x720/GU6ZY6Lrcw4ApuG1.mp4?tag=14'}, {'bitrate': 288000, 'content_type': 'video/mp4', 'url': 'https://video.twimg.com/amplify_video/1399236573942661121/vid/480x270/oyqdZfMJX3ZuK1wZ.mp4?tag=14'}, {'content_type': 'application/x-mpegURL', 'url': 'https://video.twimg.com/amplify_video/1399236573942661121/pl/OGUsXybFlgbgwPUn.m3u8?tag=14'}]}, 'additional_media_info': {'title': '', 'description': '', 'monetizable': False}}]}, source='Sprinklr', source_url='https://www.sprinklr.com', in_reply_to_status_id=None, in_reply_to_status_id_str=None, in_reply_to_user_id=None, in_reply_to_user_id_str=None, in_reply_to_screen_name=None, geo=None, coordinates=None, place=None, contributors=None, is_quote_status=False, retweet_count=199, favorite_count=1685, favorited=False, retweeted=False, possibly_sensitive=False, lang='en'), contributors_enabled=False, is_translator=False, is_translation_enabled=True, profile_background_color='AF0000', profile_background_image_url='http://abs.twimg.com/images/themes/theme14/bg.gif', profile_background_image_url_https='https://abs.twimg.com/images/themes/theme14/bg.gif', profile_background_tile=True, profile_image_url='http://pbs.twimg.com/profile_images/1398259947847233538/JXNWY7iv_normal.jpg', profile_image_url_https='https://pbs.twimg.com/profile_images/1398259947847233538/JXNWY7iv_normal.jpg', profile_banner_url='https://pbs.twimg.com/profile_banners/10228272/1622213815', profile_link_color='C9191D', profile_sidebar_border_color='000000', profile_sidebar_fill_color='EFEFEF', profile_text_color='333333', profile_use_background_image=True, has_extended_profile=False, default_profile=False, default_profile_image=False, following=True, follow_request_sent=False, notifications=False, muting=False, translator_type='regular', withheld_in_countries=[])"
      ]
     },
     "execution_count": 34,
     "metadata": {},
     "output_type": "execute_result"
    }
   ],
   "source": [
    "# follow:\n",
    "api.create_friendship('@YouTube')"
   ]
  },
  {
   "cell_type": "markdown",
   "metadata": {
    "id": "Nbp2vRONJhRH"
   },
   "source": [
    "or unfollow:"
   ]
  },
  {
   "cell_type": "code",
   "execution_count": 35,
   "metadata": {
    "id": "wCsNNVT9JhRH"
   },
   "outputs": [
    {
     "data": {
      "text/plain": [
       "User(_api=<tweepy.api.API object at 0x0000021FE3926C70>, _json={'id': 10228272, 'id_str': '10228272', 'name': 'YouTube', 'screen_name': 'YouTube', 'location': 'San Bruno, CA', 'description': 'Like and subscribe.', 'url': 'https://t.co/qkVaJFk2CG', 'entities': {'url': {'urls': [{'url': 'https://t.co/qkVaJFk2CG', 'expanded_url': 'https://www.youtube.com/', 'display_url': 'youtube.com', 'indices': [0, 23]}]}, 'description': {'urls': []}}, 'protected': False, 'followers_count': 72930904, 'friends_count': 1199, 'listed_count': 79250, 'created_at': 'Tue Nov 13 21:43:46 +0000 2007', 'favourites_count': 5553, 'utc_offset': None, 'time_zone': None, 'geo_enabled': False, 'verified': True, 'statuses_count': 33571, 'lang': None, 'status': {'created_at': 'Mon May 31 05:29:42 +0000 2021', 'id': 1399236626501541889, 'id_str': '1399236626501541889', 'text': 'Step into an intricate miniature room that @rokubunnnoichi crafted in a wall. → https://t.co/1omI0TZIih https://t.co/qSSbRKcRMb', 'truncated': False, 'entities': {'hashtags': [], 'symbols': [], 'user_mentions': [{'screen_name': 'rokubunnnoichi', 'name': 'Mozu', 'id': 3812415620, 'id_str': '3812415620', 'indices': [43, 58]}], 'urls': [{'url': 'https://t.co/1omI0TZIih', 'expanded_url': 'https://yt.be/CAHtb', 'display_url': 'yt.be/CAHtb', 'indices': [80, 103]}], 'media': [{'id': 1399236573942661121, 'id_str': '1399236573942661121', 'indices': [104, 127], 'media_url': 'http://pbs.twimg.com/media/E2sWSwjWUAA2mjr.jpg', 'media_url_https': 'https://pbs.twimg.com/media/E2sWSwjWUAA2mjr.jpg', 'url': 'https://t.co/qSSbRKcRMb', 'display_url': 'pic.twitter.com/qSSbRKcRMb', 'expanded_url': 'https://twitter.com/YouTube/status/1399236626501541889/video/1', 'type': 'photo', 'sizes': {'thumb': {'w': 150, 'h': 150, 'resize': 'crop'}, 'medium': {'w': 1200, 'h': 675, 'resize': 'fit'}, 'small': {'w': 680, 'h': 383, 'resize': 'fit'}, 'large': {'w': 1280, 'h': 720, 'resize': 'fit'}}}]}, 'extended_entities': {'media': [{'id': 1399236573942661121, 'id_str': '1399236573942661121', 'indices': [104, 127], 'media_url': 'http://pbs.twimg.com/media/E2sWSwjWUAA2mjr.jpg', 'media_url_https': 'https://pbs.twimg.com/media/E2sWSwjWUAA2mjr.jpg', 'url': 'https://t.co/qSSbRKcRMb', 'display_url': 'pic.twitter.com/qSSbRKcRMb', 'expanded_url': 'https://twitter.com/YouTube/status/1399236626501541889/video/1', 'type': 'video', 'sizes': {'thumb': {'w': 150, 'h': 150, 'resize': 'crop'}, 'medium': {'w': 1200, 'h': 675, 'resize': 'fit'}, 'small': {'w': 680, 'h': 383, 'resize': 'fit'}, 'large': {'w': 1280, 'h': 720, 'resize': 'fit'}}, 'video_info': {'aspect_ratio': [16, 9], 'duration_millis': 14115, 'variants': [{'bitrate': 832000, 'content_type': 'video/mp4', 'url': 'https://video.twimg.com/amplify_video/1399236573942661121/vid/640x360/EKbGCp7eODtx3T7v.mp4?tag=14'}, {'bitrate': 2176000, 'content_type': 'video/mp4', 'url': 'https://video.twimg.com/amplify_video/1399236573942661121/vid/1280x720/GU6ZY6Lrcw4ApuG1.mp4?tag=14'}, {'bitrate': 288000, 'content_type': 'video/mp4', 'url': 'https://video.twimg.com/amplify_video/1399236573942661121/vid/480x270/oyqdZfMJX3ZuK1wZ.mp4?tag=14'}, {'content_type': 'application/x-mpegURL', 'url': 'https://video.twimg.com/amplify_video/1399236573942661121/pl/OGUsXybFlgbgwPUn.m3u8?tag=14'}]}, 'additional_media_info': {'title': '', 'description': '', 'monetizable': False}}]}, 'source': '<a href=\"https://www.sprinklr.com\" rel=\"nofollow\">Sprinklr</a>', 'in_reply_to_status_id': None, 'in_reply_to_status_id_str': None, 'in_reply_to_user_id': None, 'in_reply_to_user_id_str': None, 'in_reply_to_screen_name': None, 'geo': None, 'coordinates': None, 'place': None, 'contributors': None, 'is_quote_status': False, 'retweet_count': 199, 'favorite_count': 1685, 'favorited': False, 'retweeted': False, 'possibly_sensitive': False, 'lang': 'en'}, 'contributors_enabled': False, 'is_translator': False, 'is_translation_enabled': True, 'profile_background_color': 'AF0000', 'profile_background_image_url': 'http://abs.twimg.com/images/themes/theme14/bg.gif', 'profile_background_image_url_https': 'https://abs.twimg.com/images/themes/theme14/bg.gif', 'profile_background_tile': True, 'profile_image_url': 'http://pbs.twimg.com/profile_images/1398259947847233538/JXNWY7iv_normal.jpg', 'profile_image_url_https': 'https://pbs.twimg.com/profile_images/1398259947847233538/JXNWY7iv_normal.jpg', 'profile_banner_url': 'https://pbs.twimg.com/profile_banners/10228272/1622213815', 'profile_link_color': 'C9191D', 'profile_sidebar_border_color': '000000', 'profile_sidebar_fill_color': 'EFEFEF', 'profile_text_color': '333333', 'profile_use_background_image': True, 'has_extended_profile': False, 'default_profile': False, 'default_profile_image': False, 'following': True, 'follow_request_sent': False, 'notifications': False, 'muting': False, 'translator_type': 'regular', 'withheld_in_countries': []}, id=10228272, id_str='10228272', name='YouTube', screen_name='YouTube', location='San Bruno, CA', description='Like and subscribe.', url='https://t.co/qkVaJFk2CG', entities={'url': {'urls': [{'url': 'https://t.co/qkVaJFk2CG', 'expanded_url': 'https://www.youtube.com/', 'display_url': 'youtube.com', 'indices': [0, 23]}]}, 'description': {'urls': []}}, protected=False, followers_count=72930904, friends_count=1199, listed_count=79250, created_at=datetime.datetime(2007, 11, 13, 21, 43, 46), favourites_count=5553, utc_offset=None, time_zone=None, geo_enabled=False, verified=True, statuses_count=33571, lang=None, status=Status(_api=<tweepy.api.API object at 0x0000021FE3926C70>, _json={'created_at': 'Mon May 31 05:29:42 +0000 2021', 'id': 1399236626501541889, 'id_str': '1399236626501541889', 'text': 'Step into an intricate miniature room that @rokubunnnoichi crafted in a wall. → https://t.co/1omI0TZIih https://t.co/qSSbRKcRMb', 'truncated': False, 'entities': {'hashtags': [], 'symbols': [], 'user_mentions': [{'screen_name': 'rokubunnnoichi', 'name': 'Mozu', 'id': 3812415620, 'id_str': '3812415620', 'indices': [43, 58]}], 'urls': [{'url': 'https://t.co/1omI0TZIih', 'expanded_url': 'https://yt.be/CAHtb', 'display_url': 'yt.be/CAHtb', 'indices': [80, 103]}], 'media': [{'id': 1399236573942661121, 'id_str': '1399236573942661121', 'indices': [104, 127], 'media_url': 'http://pbs.twimg.com/media/E2sWSwjWUAA2mjr.jpg', 'media_url_https': 'https://pbs.twimg.com/media/E2sWSwjWUAA2mjr.jpg', 'url': 'https://t.co/qSSbRKcRMb', 'display_url': 'pic.twitter.com/qSSbRKcRMb', 'expanded_url': 'https://twitter.com/YouTube/status/1399236626501541889/video/1', 'type': 'photo', 'sizes': {'thumb': {'w': 150, 'h': 150, 'resize': 'crop'}, 'medium': {'w': 1200, 'h': 675, 'resize': 'fit'}, 'small': {'w': 680, 'h': 383, 'resize': 'fit'}, 'large': {'w': 1280, 'h': 720, 'resize': 'fit'}}}]}, 'extended_entities': {'media': [{'id': 1399236573942661121, 'id_str': '1399236573942661121', 'indices': [104, 127], 'media_url': 'http://pbs.twimg.com/media/E2sWSwjWUAA2mjr.jpg', 'media_url_https': 'https://pbs.twimg.com/media/E2sWSwjWUAA2mjr.jpg', 'url': 'https://t.co/qSSbRKcRMb', 'display_url': 'pic.twitter.com/qSSbRKcRMb', 'expanded_url': 'https://twitter.com/YouTube/status/1399236626501541889/video/1', 'type': 'video', 'sizes': {'thumb': {'w': 150, 'h': 150, 'resize': 'crop'}, 'medium': {'w': 1200, 'h': 675, 'resize': 'fit'}, 'small': {'w': 680, 'h': 383, 'resize': 'fit'}, 'large': {'w': 1280, 'h': 720, 'resize': 'fit'}}, 'video_info': {'aspect_ratio': [16, 9], 'duration_millis': 14115, 'variants': [{'bitrate': 832000, 'content_type': 'video/mp4', 'url': 'https://video.twimg.com/amplify_video/1399236573942661121/vid/640x360/EKbGCp7eODtx3T7v.mp4?tag=14'}, {'bitrate': 2176000, 'content_type': 'video/mp4', 'url': 'https://video.twimg.com/amplify_video/1399236573942661121/vid/1280x720/GU6ZY6Lrcw4ApuG1.mp4?tag=14'}, {'bitrate': 288000, 'content_type': 'video/mp4', 'url': 'https://video.twimg.com/amplify_video/1399236573942661121/vid/480x270/oyqdZfMJX3ZuK1wZ.mp4?tag=14'}, {'content_type': 'application/x-mpegURL', 'url': 'https://video.twimg.com/amplify_video/1399236573942661121/pl/OGUsXybFlgbgwPUn.m3u8?tag=14'}]}, 'additional_media_info': {'title': '', 'description': '', 'monetizable': False}}]}, 'source': '<a href=\"https://www.sprinklr.com\" rel=\"nofollow\">Sprinklr</a>', 'in_reply_to_status_id': None, 'in_reply_to_status_id_str': None, 'in_reply_to_user_id': None, 'in_reply_to_user_id_str': None, 'in_reply_to_screen_name': None, 'geo': None, 'coordinates': None, 'place': None, 'contributors': None, 'is_quote_status': False, 'retweet_count': 199, 'favorite_count': 1685, 'favorited': False, 'retweeted': False, 'possibly_sensitive': False, 'lang': 'en'}, created_at=datetime.datetime(2021, 5, 31, 5, 29, 42), id=1399236626501541889, id_str='1399236626501541889', text='Step into an intricate miniature room that @rokubunnnoichi crafted in a wall. → https://t.co/1omI0TZIih https://t.co/qSSbRKcRMb', truncated=False, entities={'hashtags': [], 'symbols': [], 'user_mentions': [{'screen_name': 'rokubunnnoichi', 'name': 'Mozu', 'id': 3812415620, 'id_str': '3812415620', 'indices': [43, 58]}], 'urls': [{'url': 'https://t.co/1omI0TZIih', 'expanded_url': 'https://yt.be/CAHtb', 'display_url': 'yt.be/CAHtb', 'indices': [80, 103]}], 'media': [{'id': 1399236573942661121, 'id_str': '1399236573942661121', 'indices': [104, 127], 'media_url': 'http://pbs.twimg.com/media/E2sWSwjWUAA2mjr.jpg', 'media_url_https': 'https://pbs.twimg.com/media/E2sWSwjWUAA2mjr.jpg', 'url': 'https://t.co/qSSbRKcRMb', 'display_url': 'pic.twitter.com/qSSbRKcRMb', 'expanded_url': 'https://twitter.com/YouTube/status/1399236626501541889/video/1', 'type': 'photo', 'sizes': {'thumb': {'w': 150, 'h': 150, 'resize': 'crop'}, 'medium': {'w': 1200, 'h': 675, 'resize': 'fit'}, 'small': {'w': 680, 'h': 383, 'resize': 'fit'}, 'large': {'w': 1280, 'h': 720, 'resize': 'fit'}}}]}, extended_entities={'media': [{'id': 1399236573942661121, 'id_str': '1399236573942661121', 'indices': [104, 127], 'media_url': 'http://pbs.twimg.com/media/E2sWSwjWUAA2mjr.jpg', 'media_url_https': 'https://pbs.twimg.com/media/E2sWSwjWUAA2mjr.jpg', 'url': 'https://t.co/qSSbRKcRMb', 'display_url': 'pic.twitter.com/qSSbRKcRMb', 'expanded_url': 'https://twitter.com/YouTube/status/1399236626501541889/video/1', 'type': 'video', 'sizes': {'thumb': {'w': 150, 'h': 150, 'resize': 'crop'}, 'medium': {'w': 1200, 'h': 675, 'resize': 'fit'}, 'small': {'w': 680, 'h': 383, 'resize': 'fit'}, 'large': {'w': 1280, 'h': 720, 'resize': 'fit'}}, 'video_info': {'aspect_ratio': [16, 9], 'duration_millis': 14115, 'variants': [{'bitrate': 832000, 'content_type': 'video/mp4', 'url': 'https://video.twimg.com/amplify_video/1399236573942661121/vid/640x360/EKbGCp7eODtx3T7v.mp4?tag=14'}, {'bitrate': 2176000, 'content_type': 'video/mp4', 'url': 'https://video.twimg.com/amplify_video/1399236573942661121/vid/1280x720/GU6ZY6Lrcw4ApuG1.mp4?tag=14'}, {'bitrate': 288000, 'content_type': 'video/mp4', 'url': 'https://video.twimg.com/amplify_video/1399236573942661121/vid/480x270/oyqdZfMJX3ZuK1wZ.mp4?tag=14'}, {'content_type': 'application/x-mpegURL', 'url': 'https://video.twimg.com/amplify_video/1399236573942661121/pl/OGUsXybFlgbgwPUn.m3u8?tag=14'}]}, 'additional_media_info': {'title': '', 'description': '', 'monetizable': False}}]}, source='Sprinklr', source_url='https://www.sprinklr.com', in_reply_to_status_id=None, in_reply_to_status_id_str=None, in_reply_to_user_id=None, in_reply_to_user_id_str=None, in_reply_to_screen_name=None, geo=None, coordinates=None, place=None, contributors=None, is_quote_status=False, retweet_count=199, favorite_count=1685, favorited=False, retweeted=False, possibly_sensitive=False, lang='en'), contributors_enabled=False, is_translator=False, is_translation_enabled=True, profile_background_color='AF0000', profile_background_image_url='http://abs.twimg.com/images/themes/theme14/bg.gif', profile_background_image_url_https='https://abs.twimg.com/images/themes/theme14/bg.gif', profile_background_tile=True, profile_image_url='http://pbs.twimg.com/profile_images/1398259947847233538/JXNWY7iv_normal.jpg', profile_image_url_https='https://pbs.twimg.com/profile_images/1398259947847233538/JXNWY7iv_normal.jpg', profile_banner_url='https://pbs.twimg.com/profile_banners/10228272/1622213815', profile_link_color='C9191D', profile_sidebar_border_color='000000', profile_sidebar_fill_color='EFEFEF', profile_text_color='333333', profile_use_background_image=True, has_extended_profile=False, default_profile=False, default_profile_image=False, following=True, follow_request_sent=False, notifications=False, muting=False, translator_type='regular', withheld_in_countries=[])"
      ]
     },
     "execution_count": 35,
     "metadata": {},
     "output_type": "execute_result"
    }
   ],
   "source": [
    "# unfollow:\n",
    "api.destroy_friendship('@YouTube')"
   ]
  },
  {
   "cell_type": "code",
   "execution_count": null,
   "metadata": {
    "id": "ND4BmdkvJhRJ"
   },
   "outputs": [],
   "source": []
  },
  {
   "cell_type": "markdown",
   "metadata": {
    "id": "59l7EOATJrJO"
   },
   "source": [
    "\n",
    "\n",
    "---\n",
    "\n",
    "\n",
    "\n",
    "---\n",
    "\n",
    "\n",
    "\n",
    "> > > > > > > > > © 2021 Institute of Data\n",
    "\n",
    "\n",
    "---\n",
    "\n",
    "\n",
    "\n",
    "---\n",
    "\n",
    "\n",
    "\n"
   ]
  }
 ],
 "metadata": {
  "colab": {
   "collapsed_sections": [],
   "name": "Lab 3.2.2 Mining Social Media with Twitter.ipynb",
   "provenance": []
  },
  "kernelspec": {
   "display_name": "Python 3",
   "language": "python",
   "name": "python3"
  },
  "language_info": {
   "codemirror_mode": {
    "name": "ipython",
    "version": 3
   },
   "file_extension": ".py",
   "mimetype": "text/x-python",
   "name": "python",
   "nbconvert_exporter": "python",
   "pygments_lexer": "ipython3",
   "version": "3.8.8"
  }
 },
 "nbformat": 4,
 "nbformat_minor": 1
}
