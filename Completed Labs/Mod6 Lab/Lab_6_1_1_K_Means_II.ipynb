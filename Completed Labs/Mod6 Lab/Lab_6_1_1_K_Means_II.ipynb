{
 "cells": [
  {
   "cell_type": "markdown",
   "metadata": {
    "id": "9buSDVQSZdoN"
   },
   "source": [
    "<div>\n",
    "<img src=https://www.institutedata.com/wp-content/uploads/2019/10/iod_h_tp_primary_c.svg width=\"300\">\n",
    "</div>"
   ]
  },
  {
   "cell_type": "markdown",
   "metadata": {
    "id": "o59uK883ZdoO"
   },
   "source": [
    "# Lab 6.1.1: K-Means II by the algorithm\n",
    "\n",
    "### Australian athletes data set\n",
    "\n",
    "##### Description\n",
    "These data were collected in a study of how data on various characteristics of the bloood varied with sport body size and sex of the athlete.\n",
    "\n",
    "Usage\n",
    "data(ais)\n",
    "Format\n",
    "A data frame with 202 observations on the following 13 variables.\n",
    "\n",
    "rcc\n",
    "red blood cell count, in\n",
    "\n",
    "wcc\n",
    "while blood cell count, in per liter\n",
    "\n",
    "hc\n",
    "hematocrit, percent\n",
    "\n",
    "hg\n",
    "hemaglobin concentration, in g per decaliter\n",
    "\n",
    "ferr\n",
    "plasma ferritins, ng\n",
    "\n",
    "bmi\n",
    "Body mass index, kg\n",
    "\n",
    "ssf\n",
    "sum of skin folds\n",
    "\n",
    "pcBfat\n",
    "percent Body fat\n",
    "\n",
    "lbm\n",
    "lean body mass, kg\n",
    "\n",
    "ht\n",
    "height, cm\n",
    "\n",
    "wt\n",
    "weight, kg\n",
    "\n",
    "sex\n",
    "a factor with levels f m\n",
    "\n",
    "sport\n",
    "a factor with levels B_Ball Field Gym Netball Row Swim T_400m T_Sprnt Tennis W_Polo\n",
    "\n",
    "Details\n",
    "Do blood hemoglobin concentrations of athletes in endurance-related events differ from those in power-related events?\n",
    "\n",
    "Source\n",
    "These data were the basis for the analyses that are reported in Telford and Cunningham (1991).\n",
    "\n",
    "References\n",
    "Telford, R.D. and Cunningham, R.B. 1991. Sex, sport and body-size dependency of hematology in highly trained athletes. Medicine and Science in Sports and Exercise 23: 788-794.\n",
    "\n",
    "**References**\n",
    "\n",
    "[Data](http://vincentarelbundock.github.io/Rdatasets/csv/DAAG/ais.csv)\n",
    "\n",
    "[Data Dictionary](http://vincentarelbundock.github.io/Rdatasets/doc/DAAG/ais.html)"
   ]
  },
  {
   "cell_type": "code",
   "execution_count": 135,
   "metadata": {
    "id": "I5rfFoKjZdoP"
   },
   "outputs": [
    {
     "data": {
      "text/plain": [
       "<Figure size 864x864 with 0 Axes>"
      ]
     },
     "execution_count": 135,
     "metadata": {},
     "output_type": "execute_result"
    },
    {
     "data": {
      "text/plain": [
       "<Figure size 864x864 with 0 Axes>"
      ]
     },
     "metadata": {},
     "output_type": "display_data"
    }
   ],
   "source": [
    "# IMPORT LIBRARIES\n",
    "\n",
    "import numpy as np\n",
    "import pandas as pd\n",
    "\n",
    "%matplotlib inline\n",
    "import matplotlib.pyplot as plt\n",
    "\n",
    "from sklearn import datasets\n",
    "import seaborn as sns\n",
    "sns.set(rc={'figure.figsize':(15,8)})\n",
    "\n",
    "from sklearn.cluster import KMeans\n",
    "\n",
    "plt.figure(figsize=(12, 12))"
   ]
  },
  {
   "cell_type": "markdown",
   "metadata": {
    "id": "PSGo77oGZdoT"
   },
   "source": [
    "### 1. Import the data"
   ]
  },
  {
   "cell_type": "code",
   "execution_count": 31,
   "metadata": {
    "id": "94YMO8LbZdoU"
   },
   "outputs": [],
   "source": [
    "csv_file = 'dat/ais.csv'\n",
    "ais = pd.read_csv(csv_file)"
   ]
  },
  {
   "cell_type": "markdown",
   "metadata": {
    "id": "_OnASLbbZdoW"
   },
   "source": [
    "### 2. Do some EDA of relationships between features."
   ]
  },
  {
   "cell_type": "code",
   "execution_count": 32,
   "metadata": {
    "id": "_WAB0RqaOav1"
   },
   "outputs": [
    {
     "name": "stdout",
     "output_type": "stream",
     "text": [
      "<class 'pandas.core.frame.DataFrame'>\n",
      "RangeIndex: 202 entries, 0 to 201\n",
      "Data columns (total 14 columns):\n",
      " #   Column      Non-Null Count  Dtype  \n",
      "---  ------      --------------  -----  \n",
      " 0   Unnamed: 0  202 non-null    int64  \n",
      " 1   rcc         202 non-null    float64\n",
      " 2   wcc         202 non-null    float64\n",
      " 3   hc          202 non-null    float64\n",
      " 4   hg          202 non-null    float64\n",
      " 5   ferr        202 non-null    int64  \n",
      " 6   bmi         202 non-null    float64\n",
      " 7   ssf         202 non-null    float64\n",
      " 8   pcBfat      202 non-null    float64\n",
      " 9   lbm         202 non-null    float64\n",
      " 10  ht          202 non-null    float64\n",
      " 11  wt          202 non-null    float64\n",
      " 12  sex         202 non-null    object \n",
      " 13  sport       202 non-null    object \n",
      "dtypes: float64(10), int64(2), object(2)\n",
      "memory usage: 22.2+ KB\n"
     ]
    }
   ],
   "source": [
    "ais.info()"
   ]
  },
  {
   "cell_type": "code",
   "execution_count": 33,
   "metadata": {
    "id": "Olf3Qeu9Oav1"
   },
   "outputs": [
    {
     "data": {
      "text/html": [
       "<div>\n",
       "<style scoped>\n",
       "    .dataframe tbody tr th:only-of-type {\n",
       "        vertical-align: middle;\n",
       "    }\n",
       "\n",
       "    .dataframe tbody tr th {\n",
       "        vertical-align: top;\n",
       "    }\n",
       "\n",
       "    .dataframe thead th {\n",
       "        text-align: right;\n",
       "    }\n",
       "</style>\n",
       "<table border=\"1\" class=\"dataframe\">\n",
       "  <thead>\n",
       "    <tr style=\"text-align: right;\">\n",
       "      <th></th>\n",
       "      <th>count</th>\n",
       "      <th>mean</th>\n",
       "      <th>std</th>\n",
       "      <th>min</th>\n",
       "      <th>25%</th>\n",
       "      <th>50%</th>\n",
       "      <th>75%</th>\n",
       "      <th>max</th>\n",
       "    </tr>\n",
       "  </thead>\n",
       "  <tbody>\n",
       "    <tr>\n",
       "      <th>Unnamed: 0</th>\n",
       "      <td>202.0</td>\n",
       "      <td>101.500000</td>\n",
       "      <td>58.456537</td>\n",
       "      <td>1.00</td>\n",
       "      <td>51.2500</td>\n",
       "      <td>101.500</td>\n",
       "      <td>151.750</td>\n",
       "      <td>202.00</td>\n",
       "    </tr>\n",
       "    <tr>\n",
       "      <th>rcc</th>\n",
       "      <td>202.0</td>\n",
       "      <td>4.718614</td>\n",
       "      <td>0.457976</td>\n",
       "      <td>3.80</td>\n",
       "      <td>4.3725</td>\n",
       "      <td>4.755</td>\n",
       "      <td>5.030</td>\n",
       "      <td>6.72</td>\n",
       "    </tr>\n",
       "    <tr>\n",
       "      <th>wcc</th>\n",
       "      <td>202.0</td>\n",
       "      <td>7.108911</td>\n",
       "      <td>1.800337</td>\n",
       "      <td>3.30</td>\n",
       "      <td>5.9000</td>\n",
       "      <td>6.850</td>\n",
       "      <td>8.275</td>\n",
       "      <td>14.30</td>\n",
       "    </tr>\n",
       "    <tr>\n",
       "      <th>hc</th>\n",
       "      <td>202.0</td>\n",
       "      <td>43.091584</td>\n",
       "      <td>3.662989</td>\n",
       "      <td>35.90</td>\n",
       "      <td>40.6000</td>\n",
       "      <td>43.500</td>\n",
       "      <td>45.575</td>\n",
       "      <td>59.70</td>\n",
       "    </tr>\n",
       "    <tr>\n",
       "      <th>hg</th>\n",
       "      <td>202.0</td>\n",
       "      <td>14.566337</td>\n",
       "      <td>1.362451</td>\n",
       "      <td>11.60</td>\n",
       "      <td>13.5000</td>\n",
       "      <td>14.700</td>\n",
       "      <td>15.575</td>\n",
       "      <td>19.20</td>\n",
       "    </tr>\n",
       "    <tr>\n",
       "      <th>ferr</th>\n",
       "      <td>202.0</td>\n",
       "      <td>76.876238</td>\n",
       "      <td>47.501239</td>\n",
       "      <td>8.00</td>\n",
       "      <td>41.2500</td>\n",
       "      <td>65.500</td>\n",
       "      <td>97.000</td>\n",
       "      <td>234.00</td>\n",
       "    </tr>\n",
       "    <tr>\n",
       "      <th>bmi</th>\n",
       "      <td>202.0</td>\n",
       "      <td>22.955891</td>\n",
       "      <td>2.863933</td>\n",
       "      <td>16.75</td>\n",
       "      <td>21.0825</td>\n",
       "      <td>22.720</td>\n",
       "      <td>24.465</td>\n",
       "      <td>34.42</td>\n",
       "    </tr>\n",
       "    <tr>\n",
       "      <th>ssf</th>\n",
       "      <td>202.0</td>\n",
       "      <td>69.021782</td>\n",
       "      <td>32.565333</td>\n",
       "      <td>28.00</td>\n",
       "      <td>43.8500</td>\n",
       "      <td>58.600</td>\n",
       "      <td>90.350</td>\n",
       "      <td>200.80</td>\n",
       "    </tr>\n",
       "    <tr>\n",
       "      <th>pcBfat</th>\n",
       "      <td>202.0</td>\n",
       "      <td>13.507426</td>\n",
       "      <td>6.189826</td>\n",
       "      <td>5.63</td>\n",
       "      <td>8.5450</td>\n",
       "      <td>11.650</td>\n",
       "      <td>18.080</td>\n",
       "      <td>35.52</td>\n",
       "    </tr>\n",
       "    <tr>\n",
       "      <th>lbm</th>\n",
       "      <td>202.0</td>\n",
       "      <td>64.873713</td>\n",
       "      <td>13.070197</td>\n",
       "      <td>34.36</td>\n",
       "      <td>54.6675</td>\n",
       "      <td>63.035</td>\n",
       "      <td>74.750</td>\n",
       "      <td>106.00</td>\n",
       "    </tr>\n",
       "    <tr>\n",
       "      <th>ht</th>\n",
       "      <td>202.0</td>\n",
       "      <td>180.103960</td>\n",
       "      <td>9.734494</td>\n",
       "      <td>148.90</td>\n",
       "      <td>174.0000</td>\n",
       "      <td>179.700</td>\n",
       "      <td>186.175</td>\n",
       "      <td>209.40</td>\n",
       "    </tr>\n",
       "    <tr>\n",
       "      <th>wt</th>\n",
       "      <td>202.0</td>\n",
       "      <td>75.007921</td>\n",
       "      <td>13.925199</td>\n",
       "      <td>37.80</td>\n",
       "      <td>66.5250</td>\n",
       "      <td>74.400</td>\n",
       "      <td>84.125</td>\n",
       "      <td>123.20</td>\n",
       "    </tr>\n",
       "  </tbody>\n",
       "</table>\n",
       "</div>"
      ],
      "text/plain": [
       "            count        mean        std     min       25%      50%      75%  \\\n",
       "Unnamed: 0  202.0  101.500000  58.456537    1.00   51.2500  101.500  151.750   \n",
       "rcc         202.0    4.718614   0.457976    3.80    4.3725    4.755    5.030   \n",
       "wcc         202.0    7.108911   1.800337    3.30    5.9000    6.850    8.275   \n",
       "hc          202.0   43.091584   3.662989   35.90   40.6000   43.500   45.575   \n",
       "hg          202.0   14.566337   1.362451   11.60   13.5000   14.700   15.575   \n",
       "ferr        202.0   76.876238  47.501239    8.00   41.2500   65.500   97.000   \n",
       "bmi         202.0   22.955891   2.863933   16.75   21.0825   22.720   24.465   \n",
       "ssf         202.0   69.021782  32.565333   28.00   43.8500   58.600   90.350   \n",
       "pcBfat      202.0   13.507426   6.189826    5.63    8.5450   11.650   18.080   \n",
       "lbm         202.0   64.873713  13.070197   34.36   54.6675   63.035   74.750   \n",
       "ht          202.0  180.103960   9.734494  148.90  174.0000  179.700  186.175   \n",
       "wt          202.0   75.007921  13.925199   37.80   66.5250   74.400   84.125   \n",
       "\n",
       "               max  \n",
       "Unnamed: 0  202.00  \n",
       "rcc           6.72  \n",
       "wcc          14.30  \n",
       "hc           59.70  \n",
       "hg           19.20  \n",
       "ferr        234.00  \n",
       "bmi          34.42  \n",
       "ssf         200.80  \n",
       "pcBfat       35.52  \n",
       "lbm         106.00  \n",
       "ht          209.40  \n",
       "wt          123.20  "
      ]
     },
     "execution_count": 33,
     "metadata": {},
     "output_type": "execute_result"
    }
   ],
   "source": [
    "ais.describe().T"
   ]
  },
  {
   "cell_type": "code",
   "execution_count": 34,
   "metadata": {
    "id": "-1ZTOjfIOav1"
   },
   "outputs": [
    {
     "data": {
      "text/plain": [
       "Unnamed: 0    0\n",
       "rcc           0\n",
       "wcc           0\n",
       "hc            0\n",
       "hg            0\n",
       "ferr          0\n",
       "bmi           0\n",
       "ssf           0\n",
       "pcBfat        0\n",
       "lbm           0\n",
       "ht            0\n",
       "wt            0\n",
       "sex           0\n",
       "sport         0\n",
       "dtype: int64"
      ]
     },
     "execution_count": 34,
     "metadata": {},
     "output_type": "execute_result"
    }
   ],
   "source": [
    "ais.isnull().sum()"
   ]
  },
  {
   "cell_type": "code",
   "execution_count": 35,
   "metadata": {
    "id": "70gVBtC0Oav1"
   },
   "outputs": [
    {
     "data": {
      "text/plain": [
       "0"
      ]
     },
     "execution_count": 35,
     "metadata": {},
     "output_type": "execute_result"
    }
   ],
   "source": [
    "ais.duplicated().sum()"
   ]
  },
  {
   "cell_type": "code",
   "execution_count": 36,
   "metadata": {},
   "outputs": [
    {
     "data": {
      "text/html": [
       "<div>\n",
       "<style scoped>\n",
       "    .dataframe tbody tr th:only-of-type {\n",
       "        vertical-align: middle;\n",
       "    }\n",
       "\n",
       "    .dataframe tbody tr th {\n",
       "        vertical-align: top;\n",
       "    }\n",
       "\n",
       "    .dataframe thead th {\n",
       "        text-align: right;\n",
       "    }\n",
       "</style>\n",
       "<table border=\"1\" class=\"dataframe\">\n",
       "  <thead>\n",
       "    <tr style=\"text-align: right;\">\n",
       "      <th></th>\n",
       "      <th>Unnamed: 0</th>\n",
       "      <th>rcc</th>\n",
       "      <th>wcc</th>\n",
       "      <th>hc</th>\n",
       "      <th>hg</th>\n",
       "      <th>ferr</th>\n",
       "      <th>bmi</th>\n",
       "      <th>ssf</th>\n",
       "      <th>pcBfat</th>\n",
       "      <th>lbm</th>\n",
       "      <th>ht</th>\n",
       "      <th>wt</th>\n",
       "    </tr>\n",
       "  </thead>\n",
       "  <tbody>\n",
       "    <tr>\n",
       "      <th>Unnamed: 0</th>\n",
       "      <td>1.000000</td>\n",
       "      <td>0.658358</td>\n",
       "      <td>0.153908</td>\n",
       "      <td>0.660805</td>\n",
       "      <td>0.689778</td>\n",
       "      <td>0.441281</td>\n",
       "      <td>0.266935</td>\n",
       "      <td>-0.543638</td>\n",
       "      <td>-0.674826</td>\n",
       "      <td>0.579148</td>\n",
       "      <td>0.317385</td>\n",
       "      <td>0.370171</td>\n",
       "    </tr>\n",
       "    <tr>\n",
       "      <th>rcc</th>\n",
       "      <td>0.658358</td>\n",
       "      <td>1.000000</td>\n",
       "      <td>0.147064</td>\n",
       "      <td>0.924964</td>\n",
       "      <td>0.888800</td>\n",
       "      <td>0.250865</td>\n",
       "      <td>0.299471</td>\n",
       "      <td>-0.403004</td>\n",
       "      <td>-0.493512</td>\n",
       "      <td>0.550975</td>\n",
       "      <td>0.358854</td>\n",
       "      <td>0.403763</td>\n",
       "    </tr>\n",
       "    <tr>\n",
       "      <th>wcc</th>\n",
       "      <td>0.153908</td>\n",
       "      <td>0.147064</td>\n",
       "      <td>1.000000</td>\n",
       "      <td>0.153333</td>\n",
       "      <td>0.134720</td>\n",
       "      <td>0.132073</td>\n",
       "      <td>0.176968</td>\n",
       "      <td>0.136999</td>\n",
       "      <td>0.107960</td>\n",
       "      <td>0.102663</td>\n",
       "      <td>0.076811</td>\n",
       "      <td>0.155662</td>\n",
       "    </tr>\n",
       "    <tr>\n",
       "      <th>hc</th>\n",
       "      <td>0.660805</td>\n",
       "      <td>0.924964</td>\n",
       "      <td>0.153333</td>\n",
       "      <td>1.000000</td>\n",
       "      <td>0.950757</td>\n",
       "      <td>0.258240</td>\n",
       "      <td>0.320527</td>\n",
       "      <td>-0.449135</td>\n",
       "      <td>-0.532449</td>\n",
       "      <td>0.583375</td>\n",
       "      <td>0.371192</td>\n",
       "      <td>0.423711</td>\n",
       "    </tr>\n",
       "    <tr>\n",
       "      <th>hg</th>\n",
       "      <td>0.689778</td>\n",
       "      <td>0.888800</td>\n",
       "      <td>0.134720</td>\n",
       "      <td>0.950757</td>\n",
       "      <td>1.000000</td>\n",
       "      <td>0.308391</td>\n",
       "      <td>0.382524</td>\n",
       "      <td>-0.435429</td>\n",
       "      <td>-0.531522</td>\n",
       "      <td>0.610986</td>\n",
       "      <td>0.352322</td>\n",
       "      <td>0.455263</td>\n",
       "    </tr>\n",
       "    <tr>\n",
       "      <th>ferr</th>\n",
       "      <td>0.441281</td>\n",
       "      <td>0.250865</td>\n",
       "      <td>0.132073</td>\n",
       "      <td>0.258240</td>\n",
       "      <td>0.308391</td>\n",
       "      <td>1.000000</td>\n",
       "      <td>0.302556</td>\n",
       "      <td>-0.108243</td>\n",
       "      <td>-0.183386</td>\n",
       "      <td>0.317581</td>\n",
       "      <td>0.123255</td>\n",
       "      <td>0.273702</td>\n",
       "    </tr>\n",
       "    <tr>\n",
       "      <th>bmi</th>\n",
       "      <td>0.266935</td>\n",
       "      <td>0.299471</td>\n",
       "      <td>0.176968</td>\n",
       "      <td>0.320527</td>\n",
       "      <td>0.382524</td>\n",
       "      <td>0.302556</td>\n",
       "      <td>1.000000</td>\n",
       "      <td>0.321116</td>\n",
       "      <td>0.187558</td>\n",
       "      <td>0.713858</td>\n",
       "      <td>0.337097</td>\n",
       "      <td>0.845934</td>\n",
       "    </tr>\n",
       "    <tr>\n",
       "      <th>ssf</th>\n",
       "      <td>-0.543638</td>\n",
       "      <td>-0.403004</td>\n",
       "      <td>0.136999</td>\n",
       "      <td>-0.449135</td>\n",
       "      <td>-0.435429</td>\n",
       "      <td>-0.108243</td>\n",
       "      <td>0.321116</td>\n",
       "      <td>1.000000</td>\n",
       "      <td>0.963017</td>\n",
       "      <td>-0.207749</td>\n",
       "      <td>-0.071253</td>\n",
       "      <td>0.154196</td>\n",
       "    </tr>\n",
       "    <tr>\n",
       "      <th>pcBfat</th>\n",
       "      <td>-0.674826</td>\n",
       "      <td>-0.493512</td>\n",
       "      <td>0.107960</td>\n",
       "      <td>-0.532449</td>\n",
       "      <td>-0.531522</td>\n",
       "      <td>-0.183386</td>\n",
       "      <td>0.187558</td>\n",
       "      <td>0.963017</td>\n",
       "      <td>1.000000</td>\n",
       "      <td>-0.361850</td>\n",
       "      <td>-0.188022</td>\n",
       "      <td>-0.000193</td>\n",
       "    </tr>\n",
       "    <tr>\n",
       "      <th>lbm</th>\n",
       "      <td>0.579148</td>\n",
       "      <td>0.550975</td>\n",
       "      <td>0.102663</td>\n",
       "      <td>0.583375</td>\n",
       "      <td>0.610986</td>\n",
       "      <td>0.317581</td>\n",
       "      <td>0.713858</td>\n",
       "      <td>-0.207749</td>\n",
       "      <td>-0.361850</td>\n",
       "      <td>1.000000</td>\n",
       "      <td>0.802119</td>\n",
       "      <td>0.930913</td>\n",
       "    </tr>\n",
       "    <tr>\n",
       "      <th>ht</th>\n",
       "      <td>0.317385</td>\n",
       "      <td>0.358854</td>\n",
       "      <td>0.076811</td>\n",
       "      <td>0.371192</td>\n",
       "      <td>0.352322</td>\n",
       "      <td>0.123255</td>\n",
       "      <td>0.337097</td>\n",
       "      <td>-0.071253</td>\n",
       "      <td>-0.188022</td>\n",
       "      <td>0.802119</td>\n",
       "      <td>1.000000</td>\n",
       "      <td>0.780932</td>\n",
       "    </tr>\n",
       "    <tr>\n",
       "      <th>wt</th>\n",
       "      <td>0.370171</td>\n",
       "      <td>0.403763</td>\n",
       "      <td>0.155662</td>\n",
       "      <td>0.423711</td>\n",
       "      <td>0.455263</td>\n",
       "      <td>0.273702</td>\n",
       "      <td>0.845934</td>\n",
       "      <td>0.154196</td>\n",
       "      <td>-0.000193</td>\n",
       "      <td>0.930913</td>\n",
       "      <td>0.780932</td>\n",
       "      <td>1.000000</td>\n",
       "    </tr>\n",
       "  </tbody>\n",
       "</table>\n",
       "</div>"
      ],
      "text/plain": [
       "            Unnamed: 0       rcc       wcc        hc        hg      ferr  \\\n",
       "Unnamed: 0    1.000000  0.658358  0.153908  0.660805  0.689778  0.441281   \n",
       "rcc           0.658358  1.000000  0.147064  0.924964  0.888800  0.250865   \n",
       "wcc           0.153908  0.147064  1.000000  0.153333  0.134720  0.132073   \n",
       "hc            0.660805  0.924964  0.153333  1.000000  0.950757  0.258240   \n",
       "hg            0.689778  0.888800  0.134720  0.950757  1.000000  0.308391   \n",
       "ferr          0.441281  0.250865  0.132073  0.258240  0.308391  1.000000   \n",
       "bmi           0.266935  0.299471  0.176968  0.320527  0.382524  0.302556   \n",
       "ssf          -0.543638 -0.403004  0.136999 -0.449135 -0.435429 -0.108243   \n",
       "pcBfat       -0.674826 -0.493512  0.107960 -0.532449 -0.531522 -0.183386   \n",
       "lbm           0.579148  0.550975  0.102663  0.583375  0.610986  0.317581   \n",
       "ht            0.317385  0.358854  0.076811  0.371192  0.352322  0.123255   \n",
       "wt            0.370171  0.403763  0.155662  0.423711  0.455263  0.273702   \n",
       "\n",
       "                 bmi       ssf    pcBfat       lbm        ht        wt  \n",
       "Unnamed: 0  0.266935 -0.543638 -0.674826  0.579148  0.317385  0.370171  \n",
       "rcc         0.299471 -0.403004 -0.493512  0.550975  0.358854  0.403763  \n",
       "wcc         0.176968  0.136999  0.107960  0.102663  0.076811  0.155662  \n",
       "hc          0.320527 -0.449135 -0.532449  0.583375  0.371192  0.423711  \n",
       "hg          0.382524 -0.435429 -0.531522  0.610986  0.352322  0.455263  \n",
       "ferr        0.302556 -0.108243 -0.183386  0.317581  0.123255  0.273702  \n",
       "bmi         1.000000  0.321116  0.187558  0.713858  0.337097  0.845934  \n",
       "ssf         0.321116  1.000000  0.963017 -0.207749 -0.071253  0.154196  \n",
       "pcBfat      0.187558  0.963017  1.000000 -0.361850 -0.188022 -0.000193  \n",
       "lbm         0.713858 -0.207749 -0.361850  1.000000  0.802119  0.930913  \n",
       "ht          0.337097 -0.071253 -0.188022  0.802119  1.000000  0.780932  \n",
       "wt          0.845934  0.154196 -0.000193  0.930913  0.780932  1.000000  "
      ]
     },
     "execution_count": 36,
     "metadata": {},
     "output_type": "execute_result"
    }
   ],
   "source": [
    "ais.corr()"
   ]
  },
  {
   "cell_type": "code",
   "execution_count": 37,
   "metadata": {},
   "outputs": [
    {
     "data": {
      "text/html": [
       "<div>\n",
       "<style scoped>\n",
       "    .dataframe tbody tr th:only-of-type {\n",
       "        vertical-align: middle;\n",
       "    }\n",
       "\n",
       "    .dataframe tbody tr th {\n",
       "        vertical-align: top;\n",
       "    }\n",
       "\n",
       "    .dataframe thead th {\n",
       "        text-align: right;\n",
       "    }\n",
       "</style>\n",
       "<table border=\"1\" class=\"dataframe\">\n",
       "  <thead>\n",
       "    <tr style=\"text-align: right;\">\n",
       "      <th></th>\n",
       "      <th>rcc</th>\n",
       "      <th>wcc</th>\n",
       "      <th>hc</th>\n",
       "      <th>hg</th>\n",
       "      <th>ferr</th>\n",
       "      <th>bmi</th>\n",
       "      <th>ssf</th>\n",
       "      <th>pcBfat</th>\n",
       "      <th>lbm</th>\n",
       "      <th>ht</th>\n",
       "      <th>wt</th>\n",
       "      <th>sex</th>\n",
       "      <th>sport</th>\n",
       "    </tr>\n",
       "  </thead>\n",
       "  <tbody>\n",
       "    <tr>\n",
       "      <th>0</th>\n",
       "      <td>3.96</td>\n",
       "      <td>7.5</td>\n",
       "      <td>37.5</td>\n",
       "      <td>12.3</td>\n",
       "      <td>60</td>\n",
       "      <td>20.56</td>\n",
       "      <td>109.1</td>\n",
       "      <td>19.75</td>\n",
       "      <td>63.32</td>\n",
       "      <td>195.9</td>\n",
       "      <td>78.9</td>\n",
       "      <td>f</td>\n",
       "      <td>B_Ball</td>\n",
       "    </tr>\n",
       "    <tr>\n",
       "      <th>1</th>\n",
       "      <td>4.41</td>\n",
       "      <td>8.3</td>\n",
       "      <td>38.2</td>\n",
       "      <td>12.7</td>\n",
       "      <td>68</td>\n",
       "      <td>20.67</td>\n",
       "      <td>102.8</td>\n",
       "      <td>21.30</td>\n",
       "      <td>58.55</td>\n",
       "      <td>189.7</td>\n",
       "      <td>74.4</td>\n",
       "      <td>f</td>\n",
       "      <td>B_Ball</td>\n",
       "    </tr>\n",
       "    <tr>\n",
       "      <th>2</th>\n",
       "      <td>4.14</td>\n",
       "      <td>5.0</td>\n",
       "      <td>36.4</td>\n",
       "      <td>11.6</td>\n",
       "      <td>21</td>\n",
       "      <td>21.86</td>\n",
       "      <td>104.6</td>\n",
       "      <td>19.88</td>\n",
       "      <td>55.36</td>\n",
       "      <td>177.8</td>\n",
       "      <td>69.1</td>\n",
       "      <td>f</td>\n",
       "      <td>B_Ball</td>\n",
       "    </tr>\n",
       "    <tr>\n",
       "      <th>3</th>\n",
       "      <td>4.11</td>\n",
       "      <td>5.3</td>\n",
       "      <td>37.3</td>\n",
       "      <td>12.6</td>\n",
       "      <td>69</td>\n",
       "      <td>21.88</td>\n",
       "      <td>126.4</td>\n",
       "      <td>23.66</td>\n",
       "      <td>57.18</td>\n",
       "      <td>185.0</td>\n",
       "      <td>74.9</td>\n",
       "      <td>f</td>\n",
       "      <td>B_Ball</td>\n",
       "    </tr>\n",
       "    <tr>\n",
       "      <th>4</th>\n",
       "      <td>4.45</td>\n",
       "      <td>6.8</td>\n",
       "      <td>41.5</td>\n",
       "      <td>14.0</td>\n",
       "      <td>29</td>\n",
       "      <td>18.96</td>\n",
       "      <td>80.3</td>\n",
       "      <td>17.64</td>\n",
       "      <td>53.20</td>\n",
       "      <td>184.6</td>\n",
       "      <td>64.6</td>\n",
       "      <td>f</td>\n",
       "      <td>B_Ball</td>\n",
       "    </tr>\n",
       "    <tr>\n",
       "      <th>...</th>\n",
       "      <td>...</td>\n",
       "      <td>...</td>\n",
       "      <td>...</td>\n",
       "      <td>...</td>\n",
       "      <td>...</td>\n",
       "      <td>...</td>\n",
       "      <td>...</td>\n",
       "      <td>...</td>\n",
       "      <td>...</td>\n",
       "      <td>...</td>\n",
       "      <td>...</td>\n",
       "      <td>...</td>\n",
       "      <td>...</td>\n",
       "    </tr>\n",
       "    <tr>\n",
       "      <th>197</th>\n",
       "      <td>4.90</td>\n",
       "      <td>7.6</td>\n",
       "      <td>45.6</td>\n",
       "      <td>16.0</td>\n",
       "      <td>90</td>\n",
       "      <td>27.56</td>\n",
       "      <td>67.2</td>\n",
       "      <td>11.79</td>\n",
       "      <td>82.00</td>\n",
       "      <td>183.9</td>\n",
       "      <td>93.2</td>\n",
       "      <td>m</td>\n",
       "      <td>W_Polo</td>\n",
       "    </tr>\n",
       "    <tr>\n",
       "      <th>198</th>\n",
       "      <td>5.66</td>\n",
       "      <td>8.3</td>\n",
       "      <td>50.2</td>\n",
       "      <td>17.7</td>\n",
       "      <td>38</td>\n",
       "      <td>23.76</td>\n",
       "      <td>56.5</td>\n",
       "      <td>10.05</td>\n",
       "      <td>72.00</td>\n",
       "      <td>183.5</td>\n",
       "      <td>80.0</td>\n",
       "      <td>m</td>\n",
       "      <td>Tennis</td>\n",
       "    </tr>\n",
       "    <tr>\n",
       "      <th>199</th>\n",
       "      <td>5.03</td>\n",
       "      <td>6.4</td>\n",
       "      <td>42.7</td>\n",
       "      <td>14.3</td>\n",
       "      <td>122</td>\n",
       "      <td>22.01</td>\n",
       "      <td>47.6</td>\n",
       "      <td>8.51</td>\n",
       "      <td>68.00</td>\n",
       "      <td>183.1</td>\n",
       "      <td>73.8</td>\n",
       "      <td>m</td>\n",
       "      <td>Tennis</td>\n",
       "    </tr>\n",
       "    <tr>\n",
       "      <th>200</th>\n",
       "      <td>4.97</td>\n",
       "      <td>8.8</td>\n",
       "      <td>43.0</td>\n",
       "      <td>14.9</td>\n",
       "      <td>233</td>\n",
       "      <td>22.34</td>\n",
       "      <td>60.4</td>\n",
       "      <td>11.50</td>\n",
       "      <td>63.00</td>\n",
       "      <td>178.4</td>\n",
       "      <td>71.1</td>\n",
       "      <td>m</td>\n",
       "      <td>Tennis</td>\n",
       "    </tr>\n",
       "    <tr>\n",
       "      <th>201</th>\n",
       "      <td>5.38</td>\n",
       "      <td>6.3</td>\n",
       "      <td>46.0</td>\n",
       "      <td>15.7</td>\n",
       "      <td>32</td>\n",
       "      <td>21.07</td>\n",
       "      <td>34.9</td>\n",
       "      <td>6.26</td>\n",
       "      <td>72.00</td>\n",
       "      <td>190.8</td>\n",
       "      <td>76.7</td>\n",
       "      <td>m</td>\n",
       "      <td>Tennis</td>\n",
       "    </tr>\n",
       "  </tbody>\n",
       "</table>\n",
       "<p>202 rows × 13 columns</p>\n",
       "</div>"
      ],
      "text/plain": [
       "      rcc  wcc    hc    hg  ferr    bmi    ssf  pcBfat    lbm     ht    wt  \\\n",
       "0    3.96  7.5  37.5  12.3    60  20.56  109.1   19.75  63.32  195.9  78.9   \n",
       "1    4.41  8.3  38.2  12.7    68  20.67  102.8   21.30  58.55  189.7  74.4   \n",
       "2    4.14  5.0  36.4  11.6    21  21.86  104.6   19.88  55.36  177.8  69.1   \n",
       "3    4.11  5.3  37.3  12.6    69  21.88  126.4   23.66  57.18  185.0  74.9   \n",
       "4    4.45  6.8  41.5  14.0    29  18.96   80.3   17.64  53.20  184.6  64.6   \n",
       "..    ...  ...   ...   ...   ...    ...    ...     ...    ...    ...   ...   \n",
       "197  4.90  7.6  45.6  16.0    90  27.56   67.2   11.79  82.00  183.9  93.2   \n",
       "198  5.66  8.3  50.2  17.7    38  23.76   56.5   10.05  72.00  183.5  80.0   \n",
       "199  5.03  6.4  42.7  14.3   122  22.01   47.6    8.51  68.00  183.1  73.8   \n",
       "200  4.97  8.8  43.0  14.9   233  22.34   60.4   11.50  63.00  178.4  71.1   \n",
       "201  5.38  6.3  46.0  15.7    32  21.07   34.9    6.26  72.00  190.8  76.7   \n",
       "\n",
       "    sex   sport  \n",
       "0     f  B_Ball  \n",
       "1     f  B_Ball  \n",
       "2     f  B_Ball  \n",
       "3     f  B_Ball  \n",
       "4     f  B_Ball  \n",
       "..   ..     ...  \n",
       "197   m  W_Polo  \n",
       "198   m  Tennis  \n",
       "199   m  Tennis  \n",
       "200   m  Tennis  \n",
       "201   m  Tennis  \n",
       "\n",
       "[202 rows x 13 columns]"
      ]
     },
     "execution_count": 37,
     "metadata": {},
     "output_type": "execute_result"
    }
   ],
   "source": [
    "ais.drop(ais.columns[0], axis=1, inplace=True)\n",
    "ais"
   ]
  },
  {
   "cell_type": "markdown",
   "metadata": {
    "id": "NyMRchAMZdoX"
   },
   "source": [
    "### 3. Prepare the data for clustering\n",
    "\n",
    "1. Remove the `sex`, `sport` column. We will see if the clusters from K-Means end up like the actual sex.\n",
    "2. Put the features on the same scale."
   ]
  },
  {
   "cell_type": "code",
   "execution_count": 39,
   "metadata": {
    "id": "5yThA9TqZdoY"
   },
   "outputs": [],
   "source": [
    "# ANSWER\n",
    "#ssf, pcBfat, ibm, wt, hg, hc"
   ]
  },
  {
   "cell_type": "code",
   "execution_count": 53,
   "metadata": {},
   "outputs": [
    {
     "data": {
      "text/plain": [
       "0    f\n",
       "1    f\n",
       "2    f\n",
       "3    f\n",
       "4    f\n",
       "Name: sex, dtype: object"
      ]
     },
     "execution_count": 53,
     "metadata": {},
     "output_type": "execute_result"
    }
   ],
   "source": [
    "y = ais.sex\n",
    "y.head()"
   ]
  },
  {
   "cell_type": "code",
   "execution_count": 54,
   "metadata": {},
   "outputs": [
    {
     "data": {
      "text/html": [
       "<div>\n",
       "<style scoped>\n",
       "    .dataframe tbody tr th:only-of-type {\n",
       "        vertical-align: middle;\n",
       "    }\n",
       "\n",
       "    .dataframe tbody tr th {\n",
       "        vertical-align: top;\n",
       "    }\n",
       "\n",
       "    .dataframe thead th {\n",
       "        text-align: right;\n",
       "    }\n",
       "</style>\n",
       "<table border=\"1\" class=\"dataframe\">\n",
       "  <thead>\n",
       "    <tr style=\"text-align: right;\">\n",
       "      <th></th>\n",
       "      <th>rcc</th>\n",
       "      <th>wcc</th>\n",
       "      <th>hc</th>\n",
       "      <th>hg</th>\n",
       "      <th>ferr</th>\n",
       "      <th>bmi</th>\n",
       "      <th>ssf</th>\n",
       "      <th>pcBfat</th>\n",
       "      <th>lbm</th>\n",
       "      <th>ht</th>\n",
       "      <th>wt</th>\n",
       "    </tr>\n",
       "  </thead>\n",
       "  <tbody>\n",
       "    <tr>\n",
       "      <th>0</th>\n",
       "      <td>3.96</td>\n",
       "      <td>7.5</td>\n",
       "      <td>37.5</td>\n",
       "      <td>12.3</td>\n",
       "      <td>60</td>\n",
       "      <td>20.56</td>\n",
       "      <td>109.1</td>\n",
       "      <td>19.75</td>\n",
       "      <td>63.32</td>\n",
       "      <td>195.9</td>\n",
       "      <td>78.9</td>\n",
       "    </tr>\n",
       "    <tr>\n",
       "      <th>1</th>\n",
       "      <td>4.41</td>\n",
       "      <td>8.3</td>\n",
       "      <td>38.2</td>\n",
       "      <td>12.7</td>\n",
       "      <td>68</td>\n",
       "      <td>20.67</td>\n",
       "      <td>102.8</td>\n",
       "      <td>21.30</td>\n",
       "      <td>58.55</td>\n",
       "      <td>189.7</td>\n",
       "      <td>74.4</td>\n",
       "    </tr>\n",
       "    <tr>\n",
       "      <th>2</th>\n",
       "      <td>4.14</td>\n",
       "      <td>5.0</td>\n",
       "      <td>36.4</td>\n",
       "      <td>11.6</td>\n",
       "      <td>21</td>\n",
       "      <td>21.86</td>\n",
       "      <td>104.6</td>\n",
       "      <td>19.88</td>\n",
       "      <td>55.36</td>\n",
       "      <td>177.8</td>\n",
       "      <td>69.1</td>\n",
       "    </tr>\n",
       "    <tr>\n",
       "      <th>3</th>\n",
       "      <td>4.11</td>\n",
       "      <td>5.3</td>\n",
       "      <td>37.3</td>\n",
       "      <td>12.6</td>\n",
       "      <td>69</td>\n",
       "      <td>21.88</td>\n",
       "      <td>126.4</td>\n",
       "      <td>23.66</td>\n",
       "      <td>57.18</td>\n",
       "      <td>185.0</td>\n",
       "      <td>74.9</td>\n",
       "    </tr>\n",
       "    <tr>\n",
       "      <th>4</th>\n",
       "      <td>4.45</td>\n",
       "      <td>6.8</td>\n",
       "      <td>41.5</td>\n",
       "      <td>14.0</td>\n",
       "      <td>29</td>\n",
       "      <td>18.96</td>\n",
       "      <td>80.3</td>\n",
       "      <td>17.64</td>\n",
       "      <td>53.20</td>\n",
       "      <td>184.6</td>\n",
       "      <td>64.6</td>\n",
       "    </tr>\n",
       "  </tbody>\n",
       "</table>\n",
       "</div>"
      ],
      "text/plain": [
       "    rcc  wcc    hc    hg  ferr    bmi    ssf  pcBfat    lbm     ht    wt\n",
       "0  3.96  7.5  37.5  12.3    60  20.56  109.1   19.75  63.32  195.9  78.9\n",
       "1  4.41  8.3  38.2  12.7    68  20.67  102.8   21.30  58.55  189.7  74.4\n",
       "2  4.14  5.0  36.4  11.6    21  21.86  104.6   19.88  55.36  177.8  69.1\n",
       "3  4.11  5.3  37.3  12.6    69  21.88  126.4   23.66  57.18  185.0  74.9\n",
       "4  4.45  6.8  41.5  14.0    29  18.96   80.3   17.64  53.20  184.6  64.6"
      ]
     },
     "execution_count": 54,
     "metadata": {},
     "output_type": "execute_result"
    }
   ],
   "source": [
    "predictor_columns = [c for c in ais.columns if c != 'sex' and c != 'sport' and c != 'sport']\n",
    "X = pd.DataFrame(ais, columns = predictor_columns)\n",
    "X.head()"
   ]
  },
  {
   "cell_type": "code",
   "execution_count": null,
   "metadata": {},
   "outputs": [],
   "source": []
  },
  {
   "cell_type": "markdown",
   "metadata": {
    "id": "Y8jUYWkpZdoa"
   },
   "source": [
    "### 4. Clustering with K-Means\n",
    "\n",
    "- Cluster the data to our our target groups.\n",
    "    - Use sklearn.cluster.KMeans\n",
    "- We know that there are 2 actual classes. Lets try using 2, 4. Run the clustering algorithm with each of those k values."
   ]
  },
  {
   "cell_type": "code",
   "execution_count": 140,
   "metadata": {
    "id": "nCosKVDJZdob"
   },
   "outputs": [
    {
     "data": {
      "text/plain": [
       "KMeans(n_clusters=2, random_state=0)"
      ]
     },
     "execution_count": 140,
     "metadata": {},
     "output_type": "execute_result"
    }
   ],
   "source": [
    "# ANSWER\n",
    "\n",
    "# 2 Clusters\n",
    "kmeans_2 = KMeans(n_clusters=2, random_state=0)\n",
    "kmeans_2.fit(X, y)\n",
    "#kmeans.cluster_centers_\n"
   ]
  },
  {
   "cell_type": "code",
   "execution_count": 141,
   "metadata": {},
   "outputs": [
    {
     "data": {
      "text/plain": [
       "KMeans(n_clusters=4, random_state=0)"
      ]
     },
     "execution_count": 141,
     "metadata": {},
     "output_type": "execute_result"
    }
   ],
   "source": [
    "# ANSWER\n",
    "\n",
    "# 4 Clusters\n",
    "kmeans_4 = KMeans(n_clusters=4, random_state=0)\n",
    "kmeans_4.fit(X, y)"
   ]
  },
  {
   "cell_type": "markdown",
   "metadata": {
    "id": "jAI-4X61Zdod"
   },
   "source": [
    "### 5. Get the Labels of each point "
   ]
  },
  {
   "cell_type": "code",
   "execution_count": 142,
   "metadata": {
    "id": "5LeJLcCxZdoe"
   },
   "outputs": [
    {
     "data": {
      "text/plain": [
       "array([0, 0, 0, 0, 0, 0, 0, 0, 0, 0, 0, 0, 0, 0, 0, 0, 0, 0, 0, 0, 0, 0,\n",
       "       0, 0, 0, 0, 0, 0, 0, 0, 0, 0, 0, 0, 0, 0, 0, 0, 0, 0, 0, 1, 0, 0,\n",
       "       0, 0, 0, 1, 0, 0, 1, 0, 0, 0, 0, 0, 0, 0, 0, 0, 0, 0, 0, 0, 0, 1,\n",
       "       1, 0, 0, 1, 0, 0, 0, 0, 0, 0, 0, 0, 0, 0, 0, 0, 0, 0, 0, 0, 0, 0,\n",
       "       0, 0, 0, 0, 1, 0, 0, 1, 0, 0, 0, 0, 0, 1, 0, 0, 1, 0, 1, 1, 0, 1,\n",
       "       1, 1, 1, 1, 0, 1, 1, 1, 1, 0, 0, 1, 0, 0, 1, 0, 0, 0, 0, 1, 1, 0,\n",
       "       0, 0, 0, 0, 0, 0, 0, 0, 1, 0, 0, 0, 0, 1, 0, 0, 1, 0, 0, 0, 0, 0,\n",
       "       1, 0, 0, 0, 0, 1, 0, 1, 1, 1, 1, 0, 0, 0, 0, 1, 1, 0, 0, 1, 1, 0,\n",
       "       1, 1, 1, 1, 0, 1, 1, 0, 0, 1, 1, 0, 1, 1, 0, 1, 0, 1, 1, 1, 0, 0,\n",
       "       0, 1, 1, 0])"
      ]
     },
     "execution_count": 142,
     "metadata": {},
     "output_type": "execute_result"
    }
   ],
   "source": [
    "# ANSWER\n",
    "kmeans_2.labels_"
   ]
  },
  {
   "cell_type": "code",
   "execution_count": 143,
   "metadata": {},
   "outputs": [
    {
     "data": {
      "text/plain": [
       "array([2, 2, 2, 2, 1, 1, 2, 2, 1, 1, 2, 1, 2, 2, 2, 2, 2, 1, 2, 2, 1, 1,\n",
       "       3, 2, 3, 3, 2, 2, 1, 2, 2, 1, 2, 2, 1, 1, 2, 1, 2, 2, 1, 2, 2, 2,\n",
       "       2, 2, 3, 3, 2, 1, 2, 2, 2, 1, 2, 2, 1, 2, 3, 1, 2, 2, 1, 1, 1, 3,\n",
       "       3, 1, 1, 0, 2, 2, 2, 2, 2, 1, 1, 1, 1, 1, 1, 1, 1, 1, 1, 1, 1, 1,\n",
       "       1, 2, 2, 3, 0, 1, 3, 3, 1, 1, 1, 1, 1, 3, 1, 3, 3, 1, 0, 3, 1, 3,\n",
       "       0, 3, 0, 3, 3, 3, 3, 0, 3, 3, 3, 0, 3, 3, 3, 3, 3, 3, 3, 3, 3, 3,\n",
       "       2, 3, 3, 1, 3, 1, 1, 1, 3, 1, 1, 1, 1, 3, 1, 1, 3, 3, 1, 3, 1, 3,\n",
       "       3, 3, 3, 3, 3, 3, 1, 0, 3, 0, 3, 3, 1, 3, 1, 3, 0, 1, 1, 0, 0, 1,\n",
       "       0, 0, 0, 3, 1, 3, 0, 2, 2, 0, 3, 3, 3, 3, 1, 3, 1, 3, 0, 0, 1, 3,\n",
       "       1, 3, 0, 1])"
      ]
     },
     "execution_count": 143,
     "metadata": {},
     "output_type": "execute_result"
    }
   ],
   "source": [
    "# ANSWER\n",
    "kmeans_4.labels_"
   ]
  },
  {
   "cell_type": "markdown",
   "metadata": {
    "id": "ichQ8nF_Zdog"
   },
   "source": [
    "### 6. Elbow Method For Optimal k\n",
    "\n",
    "For each k value, we will initialise k-means and use the `inertia` attribute to identify the sum of squared distances of samples to the nearest cluster centre. As k increases, the sum of squared distance tends to zero. "
   ]
  },
  {
   "cell_type": "code",
   "execution_count": 126,
   "metadata": {
    "id": "g77PHUcgZdoh",
    "scrolled": true
   },
   "outputs": [
    {
     "name": "stderr",
     "output_type": "stream",
     "text": [
      "F:\\anaconda3\\lib\\site-packages\\sklearn\\cluster\\_kmeans.py:881: UserWarning: KMeans is known to have a memory leak on Windows with MKL, when there are less chunks than available threads. You can avoid it by setting the environment variable OMP_NUM_THREADS=1.\n",
      "  warnings.warn(\n"
     ]
    },
    {
     "name": "stdout",
     "output_type": "stream",
     "text": [
      "k = 1:  772163.8116782176\n",
      "k = 2:  461735.41499036556\n",
      "k = 3:  326376.1578621592\n",
      "k = 4:  246201.13884962804\n",
      "k = 5:  216076.16619217693\n",
      "k = 6:  190253.5680756016\n",
      "k = 7:  170850.80521494415\n",
      "k = 8:  152637.08533948538\n",
      "k = 9:  141990.61687858895\n",
      "k = 10:  131893.81523544452\n",
      "k = 11:  122752.37266711729\n",
      "k = 12:  113116.2795807065\n",
      "k = 13:  106400.62341376806\n",
      "k = 14:  104591.07059784378\n"
     ]
    }
   ],
   "source": [
    "# ANSWER\n",
    "Sum_of_squared_distances = []\n",
    "K = range(1,15)\n",
    "\n",
    "for k in K:\n",
    "    \n",
    "    kmeans = KMeans(n_clusters=k, random_state=0)\n",
    "    kmeans.fit(X)\n",
    "    Sum_of_squared_distances.append(kmeans.inertia_)\n",
    "    print('k = %i: ' % k, kmeans.inertia_)\n",
    "\n"
   ]
  },
  {
   "cell_type": "code",
   "execution_count": 130,
   "metadata": {
    "id": "g77PHUcgZdoh",
    "scrolled": true
   },
   "outputs": [
    {
     "name": "stdout",
     "output_type": "stream",
     "text": [
      "k = 3:  326376.1578621592\n",
      "k = 4:  246201.13884962804\n",
      "k = 5:  216076.16619217693\n",
      "k = 6:  190253.5680756016\n",
      "k = 7:  170850.80521494415\n",
      "k = 8:  152637.08533948538\n",
      "k = 9:  141990.61687858895\n",
      "k = 10:  131893.81523544452\n",
      "k = 11:  122752.37266711729\n",
      "k = 12:  113116.2795807065\n",
      "k = 13:  106400.62341376806\n",
      "k = 14:  104591.07059784378\n",
      "k = 15:  95617.48332848221\n",
      "k = 16:  89551.02364668502\n",
      "k = 17:  85934.78937464317\n",
      "k = 18:  81513.37091289677\n",
      "k = 19:  78422.74300250692\n",
      "k = 20:  74016.21450381412\n",
      "k = 21:  72241.8236434772\n",
      "k = 22:  68717.02458457436\n",
      "k = 23:  65831.00573053089\n",
      "k = 24:  61578.35603651393\n",
      "k = 25:  61897.56031497679\n",
      "k = 26:  59506.43004016984\n",
      "k = 27:  57412.92294383466\n",
      "k = 28:  53689.866250534964\n",
      "k = 29:  52871.59232020052\n",
      "k = 30:  51894.94200772733\n",
      "k = 31:  49870.41633214645\n",
      "k = 32:  48680.866936145525\n",
      "k = 33:  47207.69683837578\n",
      "k = 34:  44994.6374639394\n",
      "k = 35:  44437.75577291127\n",
      "k = 36:  44145.8102505435\n",
      "k = 37:  41837.34751961983\n",
      "k = 38:  41367.39685578645\n",
      "k = 39:  39798.16458105033\n",
      "k = 40:  38949.15583645744\n",
      "k = 41:  37977.14995718255\n",
      "k = 42:  37426.35236353174\n",
      "k = 43:  35982.34497075396\n",
      "k = 44:  35506.77821353897\n",
      "k = 45:  34299.26513945165\n",
      "k = 46:  33177.22497163059\n",
      "k = 47:  32338.042193394667\n",
      "k = 48:  30918.469693492065\n",
      "k = 49:  31156.325633241748\n",
      "k = 50:  29571.151352904013\n",
      "k = 51:  29175.579239253257\n",
      "k = 52:  28222.837720357158\n",
      "k = 53:  27168.47209228356\n",
      "k = 54:  26960.037508650807\n",
      "k = 55:  26195.022383134918\n",
      "k = 56:  26201.04879065656\n",
      "k = 57:  24973.245709603183\n",
      "k = 58:  24487.794565256416\n",
      "k = 59:  24004.04605761905\n",
      "k = 60:  23095.286013571436\n",
      "k = 61:  23241.889498095246\n",
      "k = 62:  21658.38477047619\n",
      "k = 63:  21679.638179166675\n",
      "k = 64:  21490.156081904763\n",
      "k = 65:  20041.78458234127\n",
      "k = 66:  20198.27814714286\n",
      "k = 67:  19612.24902083334\n",
      "k = 68:  19864.523289166656\n",
      "k = 69:  19164.37134142857\n",
      "k = 70:  18378.371333333344\n",
      "k = 71:  18341.2298702381\n",
      "k = 72:  17786.678889285722\n",
      "k = 73:  17313.951158333333\n",
      "k = 74:  17141.810290476184\n",
      "k = 75:  16823.4161602381\n",
      "k = 76:  16271.20646047619\n",
      "k = 77:  15615.947764523813\n",
      "k = 78:  15366.627858333337\n",
      "k = 79:  15285.94452261905\n",
      "k = 80:  14890.268680000006\n",
      "k = 81:  14308.666217857139\n",
      "k = 82:  14229.451586666672\n",
      "k = 83:  13485.136463333334\n",
      "k = 84:  13536.94800380953\n",
      "k = 85:  13365.278016428583\n",
      "k = 86:  13000.921941666673\n",
      "k = 87:  12520.634416666673\n",
      "k = 88:  12291.829165000006\n",
      "k = 89:  11911.751806666669\n",
      "k = 90:  12071.55971071429\n",
      "k = 91:  11602.493443333336\n",
      "k = 92:  11256.152791666664\n",
      "k = 93:  11287.641860000007\n",
      "k = 94:  10737.927414999998\n",
      "k = 95:  10821.310129999998\n",
      "k = 96:  10491.715343333328\n",
      "k = 97:  10117.004561666663\n",
      "k = 98:  10010.301541666666\n",
      "k = 99:  9450.49517\n",
      "k = 100:  9478.384543333334\n",
      "k = 101:  9143.58646\n",
      "k = 102:  9077.05802166667\n",
      "k = 103:  8678.371450000006\n",
      "k = 104:  8579.23941\n",
      "k = 105:  8343.668220000001\n",
      "k = 106:  8206.427925\n",
      "k = 107:  8055.967714999999\n",
      "k = 108:  7771.434870000004\n",
      "k = 109:  7546.315153333332\n",
      "k = 110:  7647.668363333332\n",
      "k = 111:  7326.119226666667\n",
      "k = 112:  7286.664526666664\n",
      "k = 113:  6966.654181666668\n",
      "k = 114:  6798.840058333334\n",
      "k = 115:  6664.609050000001\n",
      "k = 116:  6542.279933333331\n",
      "k = 117:  6384.320471666669\n",
      "k = 118:  6313.161463333335\n",
      "k = 119:  6045.873591666667\n",
      "k = 120:  5909.734250000005\n",
      "k = 121:  5743.820941666666\n",
      "k = 122:  5537.677683333333\n",
      "k = 123:  5528.971735000003\n",
      "k = 124:  5359.478499999998\n",
      "k = 125:  5322.934023333335\n",
      "k = 126:  4878.496171666667\n",
      "k = 127:  4849.829964999998\n",
      "k = 128:  4710.82105\n",
      "k = 129:  4714.253813333332\n",
      "k = 130:  4333.170508333332\n",
      "k = 131:  4542.680233333335\n",
      "k = 132:  4222.993216666667\n",
      "k = 133:  4043.2951333333335\n",
      "k = 134:  3957.239474999999\n",
      "k = 135:  3901.0597249999996\n",
      "k = 136:  3749.4875466666663\n",
      "k = 137:  3700.256691666666\n",
      "k = 138:  3548.8343000000004\n",
      "k = 139:  3461.820341666666\n",
      "k = 140:  3415.013700000001\n",
      "k = 141:  3278.248275\n",
      "k = 142:  3118.481613333334\n",
      "k = 143:  2971.1054000000004\n",
      "k = 144:  2967.8294083333344\n",
      "k = 145:  2847.6131333333337\n",
      "k = 146:  2691.7115333333327\n",
      "k = 147:  2640.4300166666667\n",
      "k = 148:  2564.6491999999994\n",
      "k = 149:  2380.544475\n",
      "k = 150:  2378.1489833333326\n",
      "k = 151:  2252.0108833333325\n",
      "k = 152:  2184.3087666666675\n",
      "k = 153:  2098.221675\n",
      "k = 154:  2014.3589833333328\n",
      "k = 155:  1936.2462999999996\n",
      "k = 156:  1878.6280249999998\n",
      "k = 157:  1813.056766666666\n",
      "k = 158:  1732.722258333333\n",
      "k = 159:  1669.645549999999\n",
      "k = 160:  1550.1460166666664\n",
      "k = 161:  1498.386883333333\n",
      "k = 162:  1481.4920249999993\n",
      "k = 163:  1414.0776333333326\n",
      "k = 164:  1324.3260333333328\n",
      "k = 165:  1297.4678666666662\n",
      "k = 166:  1199.482166666666\n",
      "k = 167:  1158.9531833333328\n",
      "k = 168:  1108.8547999999994\n",
      "k = 169:  1055.729933333333\n",
      "k = 170:  979.9028166666661\n",
      "k = 171:  941.987483333333\n",
      "k = 172:  906.3206999999996\n",
      "k = 173:  850.2643999999995\n",
      "k = 174:  807.6434833333329\n",
      "k = 175:  765.2332333333333\n",
      "k = 176:  722.6930499999997\n",
      "k = 177:  685.589333333333\n",
      "k = 178:  646.3228999999998\n",
      "k = 179:  607.6878833333332\n",
      "k = 180:  570.3788499999997\n",
      "k = 181:  528.87415\n",
      "k = 182:  492.18825\n",
      "k = 183:  456.7501999999999\n",
      "k = 184:  422.3204499999999\n",
      "k = 185:  388.7207499999998\n",
      "k = 186:  356.38484999999974\n",
      "k = 187:  324.0726999999998\n",
      "k = 188:  292.8949499999999\n",
      "k = 189:  263.0326499999999\n",
      "k = 190:  233.73794999999987\n",
      "k = 191:  205.50424999999993\n",
      "k = 192:  178.62279999999996\n",
      "k = 193:  152.08015\n",
      "k = 194:  127.57699999999997\n",
      "k = 195:  104.85955000000001\n",
      "k = 196:  85.96210000000004\n",
      "k = 197:  69.45695000000003\n",
      "k = 198:  53.83795000000003\n",
      "k = 199:  38.51325000000001\n",
      "k = 200:  23.592149999999993\n",
      "k = 201:  9.025649999999981\n",
      "k = 202:  0.0\n"
     ]
    },
    {
     "ename": "ValueError",
     "evalue": "n_samples=202 should be >= n_clusters=203.",
     "output_type": "error",
     "traceback": [
      "\u001b[1;31m---------------------------------------------------------------------------\u001b[0m",
      "\u001b[1;31mValueError\u001b[0m                                Traceback (most recent call last)",
      "\u001b[1;32m<ipython-input-130-f821b79eaa6a>\u001b[0m in \u001b[0;36m<module>\u001b[1;34m\u001b[0m\n\u001b[0;32m     11\u001b[0m     \u001b[0mk\u001b[0m \u001b[1;33m+=\u001b[0m \u001b[1;36m1\u001b[0m\u001b[1;33m\u001b[0m\u001b[1;33m\u001b[0m\u001b[0m\n\u001b[0;32m     12\u001b[0m     \u001b[0mkmeans_t\u001b[0m \u001b[1;33m=\u001b[0m \u001b[0mKMeans\u001b[0m\u001b[1;33m(\u001b[0m\u001b[0mn_clusters\u001b[0m\u001b[1;33m=\u001b[0m\u001b[0mk\u001b[0m\u001b[1;33m,\u001b[0m \u001b[0mrandom_state\u001b[0m\u001b[1;33m=\u001b[0m\u001b[1;36m0\u001b[0m\u001b[1;33m)\u001b[0m\u001b[1;33m\u001b[0m\u001b[1;33m\u001b[0m\u001b[0m\n\u001b[1;32m---> 13\u001b[1;33m     \u001b[0mkmeans_t\u001b[0m\u001b[1;33m.\u001b[0m\u001b[0mfit\u001b[0m\u001b[1;33m(\u001b[0m\u001b[0mX\u001b[0m\u001b[1;33m,\u001b[0m \u001b[0my\u001b[0m\u001b[1;33m)\u001b[0m\u001b[1;33m\u001b[0m\u001b[1;33m\u001b[0m\u001b[0m\n\u001b[0m\u001b[0;32m     14\u001b[0m     \u001b[0mSum_of_squared_distances_t\u001b[0m\u001b[1;33m.\u001b[0m\u001b[0mappend\u001b[0m\u001b[1;33m(\u001b[0m\u001b[0mkmeans_t\u001b[0m\u001b[1;33m)\u001b[0m\u001b[1;33m\u001b[0m\u001b[1;33m\u001b[0m\u001b[0m\n\u001b[0;32m     15\u001b[0m     \u001b[0mprint\u001b[0m\u001b[1;33m(\u001b[0m\u001b[1;34m'k = %i: '\u001b[0m \u001b[1;33m%\u001b[0m \u001b[0mk\u001b[0m\u001b[1;33m,\u001b[0m \u001b[0mkmeans_t\u001b[0m\u001b[1;33m.\u001b[0m\u001b[0minertia_\u001b[0m\u001b[1;33m)\u001b[0m\u001b[1;33m\u001b[0m\u001b[1;33m\u001b[0m\u001b[0m\n",
      "\u001b[1;32mF:\\anaconda3\\lib\\site-packages\\sklearn\\cluster\\_kmeans.py\u001b[0m in \u001b[0;36mfit\u001b[1;34m(self, X, y, sample_weight)\u001b[0m\n\u001b[0;32m    982\u001b[0m                                 accept_large_sparse=False)\n\u001b[0;32m    983\u001b[0m \u001b[1;33m\u001b[0m\u001b[0m\n\u001b[1;32m--> 984\u001b[1;33m         \u001b[0mself\u001b[0m\u001b[1;33m.\u001b[0m\u001b[0m_check_params\u001b[0m\u001b[1;33m(\u001b[0m\u001b[0mX\u001b[0m\u001b[1;33m)\u001b[0m\u001b[1;33m\u001b[0m\u001b[1;33m\u001b[0m\u001b[0m\n\u001b[0m\u001b[0;32m    985\u001b[0m         \u001b[0mrandom_state\u001b[0m \u001b[1;33m=\u001b[0m \u001b[0mcheck_random_state\u001b[0m\u001b[1;33m(\u001b[0m\u001b[0mself\u001b[0m\u001b[1;33m.\u001b[0m\u001b[0mrandom_state\u001b[0m\u001b[1;33m)\u001b[0m\u001b[1;33m\u001b[0m\u001b[1;33m\u001b[0m\u001b[0m\n\u001b[0;32m    986\u001b[0m         \u001b[0msample_weight\u001b[0m \u001b[1;33m=\u001b[0m \u001b[0m_check_sample_weight\u001b[0m\u001b[1;33m(\u001b[0m\u001b[0msample_weight\u001b[0m\u001b[1;33m,\u001b[0m \u001b[0mX\u001b[0m\u001b[1;33m,\u001b[0m \u001b[0mdtype\u001b[0m\u001b[1;33m=\u001b[0m\u001b[0mX\u001b[0m\u001b[1;33m.\u001b[0m\u001b[0mdtype\u001b[0m\u001b[1;33m)\u001b[0m\u001b[1;33m\u001b[0m\u001b[1;33m\u001b[0m\u001b[0m\n",
      "\u001b[1;32mF:\\anaconda3\\lib\\site-packages\\sklearn\\cluster\\_kmeans.py\u001b[0m in \u001b[0;36m_check_params\u001b[1;34m(self, X)\u001b[0m\n\u001b[0;32m    810\u001b[0m         \u001b[1;31m# n_clusters\u001b[0m\u001b[1;33m\u001b[0m\u001b[1;33m\u001b[0m\u001b[1;33m\u001b[0m\u001b[0m\n\u001b[0;32m    811\u001b[0m         \u001b[1;32mif\u001b[0m \u001b[0mX\u001b[0m\u001b[1;33m.\u001b[0m\u001b[0mshape\u001b[0m\u001b[1;33m[\u001b[0m\u001b[1;36m0\u001b[0m\u001b[1;33m]\u001b[0m \u001b[1;33m<\u001b[0m \u001b[0mself\u001b[0m\u001b[1;33m.\u001b[0m\u001b[0mn_clusters\u001b[0m\u001b[1;33m:\u001b[0m\u001b[1;33m\u001b[0m\u001b[1;33m\u001b[0m\u001b[0m\n\u001b[1;32m--> 812\u001b[1;33m             raise ValueError(f\"n_samples={X.shape[0]} should be >= \"\n\u001b[0m\u001b[0;32m    813\u001b[0m                              f\"n_clusters={self.n_clusters}.\")\n\u001b[0;32m    814\u001b[0m \u001b[1;33m\u001b[0m\u001b[0m\n",
      "\u001b[1;31mValueError\u001b[0m: n_samples=202 should be >= n_clusters=203."
     ]
    }
   ],
   "source": [
    "# ANSWER\n",
    "Sum_of_squared_distances_t = []\n",
    "\n",
    "k = 2\n",
    "kmeans_t = KMeans(n_clusters=k, random_state=0)\n",
    "Sum_of_squared_distances_t.append(kmeans_t)\n",
    "#print('k = %i: ' % k, kmeans_t.inertia_)\n",
    "\n",
    "while kmeans_t != 0:\n",
    "    \n",
    "    k += 1\n",
    "    kmeans_t = KMeans(n_clusters=k, random_state=0)\n",
    "    kmeans_t.fit(X, y)\n",
    "    Sum_of_squared_distances_t.append(kmeans_t)\n",
    "    print('k = %i: ' % k, kmeans_t.inertia_)\n"
   ]
  },
  {
   "cell_type": "markdown",
   "metadata": {
    "id": "rgTQLaSNZdoj"
   },
   "source": [
    "Plot the sum of squared distances vs. k in the range specified above. If the plot looks like an arm, then the elbow on the arm is optimal k."
   ]
  },
  {
   "cell_type": "code",
   "execution_count": 131,
   "metadata": {
    "id": "pbJ_EZRGZdok"
   },
   "outputs": [
    {
     "data": {
      "text/plain": [
       "<matplotlib.collections.PathCollection at 0x1fbe31ed070>"
      ]
     },
     "execution_count": 131,
     "metadata": {},
     "output_type": "execute_result"
    },
    {
     "data": {
      "image/png": "[encoded data removed]",
      "text/plain": [
       "<Figure size 432x288 with 1 Axes>"
      ]
     },
     "metadata": {
      "needs_background": "light"
     },
     "output_type": "display_data"
    }
   ],
   "source": [
    "# ANSWER\n",
    "plt.scatter(Sum_of_squared_distances, K)"
   ]
  },
  {
   "cell_type": "markdown",
   "metadata": {
    "id": "nCs5g-pLZdom"
   },
   "source": [
    "### 7. Plot `pcBfat` vs. `wt` using the clusters from each model.\n",
    "\n",
    "- Plot pcBfat, wt using hue = sex\n",
    "- Plot pcBfat, wt using hue = labels indentified by the model\n"
   ]
  },
  {
   "cell_type": "code",
   "execution_count": 136,
   "metadata": {
    "id": "qNDCuP1bZdon"
   },
   "outputs": [
    {
     "name": "stderr",
     "output_type": "stream",
     "text": [
      "F:\\anaconda3\\lib\\site-packages\\seaborn\\_decorators.py:36: FutureWarning: Pass the following variables as keyword args: x, y. From version 0.12, the only valid positional argument will be `data`, and passing other arguments without an explicit keyword will result in an error or misinterpretation.\n",
      "  warnings.warn(\n"
     ]
    },
    {
     "data": {
      "text/plain": [
       "<AxesSubplot:xlabel='pcBfat', ylabel='wt'>"
      ]
     },
     "execution_count": 136,
     "metadata": {},
     "output_type": "execute_result"
    },
    {
     "data": {
      "image/png": "[encoded data removed]",
      "text/plain": [
       "<Figure size 1080x576 with 1 Axes>"
      ]
     },
     "metadata": {},
     "output_type": "display_data"
    }
   ],
   "source": [
    "# ANSWER\n",
    "sns.scatterplot(ais.pcBfat, ais.wt, hue=ais.sex)"
   ]
  },
  {
   "cell_type": "code",
   "execution_count": 139,
   "metadata": {},
   "outputs": [
    {
     "name": "stderr",
     "output_type": "stream",
     "text": [
      "F:\\anaconda3\\lib\\site-packages\\seaborn\\_decorators.py:36: FutureWarning: Pass the following variables as keyword args: x, y. From version 0.12, the only valid positional argument will be `data`, and passing other arguments without an explicit keyword will result in an error or misinterpretation.\n",
      "  warnings.warn(\n"
     ]
    },
    {
     "data": {
      "text/plain": [
       "<AxesSubplot:xlabel='pcBfat', ylabel='wt'>"
      ]
     },
     "execution_count": 139,
     "metadata": {},
     "output_type": "execute_result"
    },
    {
     "data": {
      "image/png": "[encoded data removed]",
      "text/plain": [
       "<Figure size 1080x576 with 1 Axes>"
      ]
     },
     "metadata": {},
     "output_type": "display_data"
    }
   ],
   "source": [
    "sns.scatterplot(ais.pcBfat, ais.wt, hue=kmeans_2.labels_)"
   ]
  },
  {
   "cell_type": "markdown",
   "metadata": {
    "id": "Ftn6NPYaOav4"
   },
   "source": [
    "Repeat for k = 4"
   ]
  },
  {
   "cell_type": "code",
   "execution_count": 144,
   "metadata": {
    "id": "xE2ocMd7Oav4"
   },
   "outputs": [
    {
     "name": "stderr",
     "output_type": "stream",
     "text": [
      "F:\\anaconda3\\lib\\site-packages\\seaborn\\_decorators.py:36: FutureWarning: Pass the following variables as keyword args: x, y. From version 0.12, the only valid positional argument will be `data`, and passing other arguments without an explicit keyword will result in an error or misinterpretation.\n",
      "  warnings.warn(\n"
     ]
    },
    {
     "data": {
      "text/plain": [
       "<AxesSubplot:xlabel='pcBfat', ylabel='wt'>"
      ]
     },
     "execution_count": 144,
     "metadata": {},
     "output_type": "execute_result"
    },
    {
     "data": {
      "image/png": "[encoded data removed]",
      "text/plain": [
       "<Figure size 1080x576 with 1 Axes>"
      ]
     },
     "metadata": {},
     "output_type": "display_data"
    }
   ],
   "source": [
    "# ANSWER\n",
    "\n",
    "# 4 Clusters\n",
    "\n",
    "sns.scatterplot(ais.pcBfat, ais.wt, hue=kmeans_4.labels_)"
   ]
  },
  {
   "cell_type": "markdown",
   "metadata": {
    "id": "n5gar-w0j2Tr"
   },
   "source": [
    "\n",
    "\n",
    "---\n",
    "\n",
    "\n",
    "\n",
    "---\n",
    "\n",
    "\n",
    "\n",
    "> > > > > > > > > © 2019 Institute of Data\n",
    "\n",
    "\n",
    "---\n",
    "\n",
    "\n",
    "\n",
    "---\n",
    "\n",
    "\n",
    "\n"
   ]
  }
 ],
 "metadata": {
  "colab": {
   "collapsed_sections": [],
   "name": "Lab 6.1.1 K-Means II.ipynb",
   "provenance": []
  },
  "kernelspec": {
   "display_name": "Python 3",
   "language": "python",
   "name": "python3"
  },
  "language_info": {
   "codemirror_mode": {
    "name": "ipython",
    "version": 3
   },
   "file_extension": ".py",
   "mimetype": "text/x-python",
   "name": "python",
   "nbconvert_exporter": "python",
   "pygments_lexer": "ipython3",
   "version": "3.8.8"
  }
 },
 "nbformat": 4,
 "nbformat_minor": 1
}
