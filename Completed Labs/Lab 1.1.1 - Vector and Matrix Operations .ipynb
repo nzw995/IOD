{
 "cells": [
  {
   "cell_type": "markdown",
   "metadata": {
    "colab_type": "text",
    "id": "emj1GNgIT3CB"
   },
   "source": [
    "<div>\n",
    "<img src=https://www.institutedata.com/wp-content/uploads/2019/10/iod_h_tp_primary_c.svg width=\"300\">\n",
    "</div>"
   ]
  },
  {
   "cell_type": "markdown",
   "metadata": {
    "colab_type": "text",
    "id": "FvN6xzeyT3CC"
   },
   "source": [
    "1. Compute the scaler product of two vectors\n",
    "\n",
    "> In mathematics, the dot product or scalar product is an algebraic operation that takes two equal-length sequences of numbers (usually coordinate vectors) and returns a single number. \n",
    "\n",
    "> we can calculate it this way:\n",
    "\n",
    "        a · b = ax × bx + ay × by\n",
    "        \n",
    "Hint: [Dot Product](https://www.mathsisfun.com/algebra/vectors-dot-product.html)"
   ]
  },
  {
   "cell_type": "code",
   "execution_count": 2,
   "metadata": {
    "ExecuteTime": {
     "end_time": "2019-06-27T03:58:34.200170Z",
     "start_time": "2019-06-27T03:58:34.196182Z"
    },
    "colab": {},
    "colab_type": "code",
    "id": "JkwM7G3IT3CD"
   },
   "outputs": [],
   "source": [
    "import numpy as np"
   ]
  },
  {
   "cell_type": "code",
   "execution_count": 19,
   "metadata": {
    "ExecuteTime": {
     "end_time": "2019-06-27T04:56:56.317427Z",
     "start_time": "2019-06-27T04:56:56.313425Z"
    },
    "colab": {},
    "colab_type": "code",
    "id": "rsOPN02pT3CG"
   },
   "outputs": [],
   "source": [
    "a = [-12, 16]\n",
    "b = [12, 9]"
   ]
  },
  {
   "cell_type": "code",
   "execution_count": 20,
   "metadata": {},
   "outputs": [
    {
     "data": {
      "text/plain": [
       "0"
      ]
     },
     "execution_count": 20,
     "metadata": {},
     "output_type": "execute_result"
    }
   ],
   "source": [
    "# Dot product of a & b. Insert answer here\n",
    "np.dot(a,b)\n"
   ]
  },
  {
   "cell_type": "markdown",
   "metadata": {
    "ExecuteTime": {
     "end_time": "2019-06-27T03:59:49.939731Z",
     "start_time": "2019-06-27T03:59:49.934711Z"
    },
    "colab_type": "text",
    "id": "cIamVopdT3CI"
   },
   "source": [
    "2. Compute the cross product of two vectors\n",
    "\n",
    "        \n",
    "Hint: [Cross Product](https://www.mathsisfun.com/algebra/vectors-cross-product.html)"
   ]
  },
  {
   "cell_type": "code",
   "execution_count": 17,
   "metadata": {
    "ExecuteTime": {
     "end_time": "2019-06-27T04:56:59.994576Z",
     "start_time": "2019-06-27T04:56:59.987594Z"
    },
    "colab": {},
    "colab_type": "code",
    "id": "L9FjAAzNT3CJ"
   },
   "outputs": [],
   "source": [
    "x = np.array([[1,2,3], [4,5,6]])\n",
    "y = np.array([[4,5,6], [1,2,3]])"
   ]
  },
  {
   "cell_type": "code",
   "execution_count": 21,
   "metadata": {},
   "outputs": [
    {
     "data": {
      "text/plain": [
       "array([[-3,  6, -3],\n",
       "       [ 3, -6,  3]])"
      ]
     },
     "execution_count": 21,
     "metadata": {},
     "output_type": "execute_result"
    }
   ],
   "source": [
    "# Cross product of a & b. Insert answer here\n",
    "\n",
    "np.cross(x, y)"
   ]
  },
  {
   "cell_type": "markdown",
   "metadata": {
    "colab_type": "text",
    "id": "2M2dKNL-T3CL"
   },
   "source": [
    "3. Compute the Hademard product (entry-wise multiplication) of two vectors.\n",
    "\n",
    "> In mathematics, the Hadamard product (also known as the Schur product[1] or the entrywise product[2]:ch. 5) is a binary operation that takes two matrices of the same dimensions and produces another matrix of the same dimension as the operands where each element i, j is the product of elements i, j of the original two matrices. It should not be confused with the more common matrix product. It is attributed to, and named after, either French mathematician Jacques Hadamard or German mathematician Issai Schur. [Wiki](https://en.wikipedia.org/wiki/Hadamard_product_(matrices))\n",
    "\n",
    "![](https://wikimedia.org/api/rest_v1/media/math/render/svg/4eb9bb54b2820fb3583901ec05bc4b474b6d90bc)"
   ]
  },
  {
   "cell_type": "code",
   "execution_count": 25,
   "metadata": {
    "ExecuteTime": {
     "end_time": "2019-06-27T04:57:06.480263Z",
     "start_time": "2019-06-27T04:57:06.474279Z"
    },
    "colab": {},
    "colab_type": "code",
    "id": "WnDQY9MyT3CM"
   },
   "outputs": [
    {
     "name": "stdout",
     "output_type": "stream",
     "text": [
      "[[1 2]\n",
      " [3 4]]\n",
      "[[5 6]\n",
      " [7 8]]\n"
     ]
    }
   ],
   "source": [
    "a = np.array([[1,2],[3,4]])\n",
    "b = np.array([[5,6],[7,8]])"
   ]
  },
  {
   "cell_type": "code",
   "execution_count": 28,
   "metadata": {},
   "outputs": [
    {
     "data": {
      "text/plain": [
       "array([[ 5, 12],\n",
       "       [21, 32]])"
      ]
     },
     "execution_count": 28,
     "metadata": {},
     "output_type": "execute_result"
    }
   ],
   "source": [
    "# Hademard product of a & b. Insert answer here\n",
    "\n",
    "np.multiply(a,b)"
   ]
  },
  {
   "cell_type": "markdown",
   "metadata": {
    "colab_type": "text",
    "id": "b1ZR2J8HT3CO"
   },
   "source": [
    "4. Compute the sum of two matrices.\n",
    "\n",
    "![](https://wikimedia.org/api/rest_v1/media/math/render/svg/0fb7845af355c550d44020e52699069c044126a9)"
   ]
  },
  {
   "cell_type": "code",
   "execution_count": 104,
   "metadata": {
    "ExecuteTime": {
     "end_time": "2019-06-27T04:57:13.225605Z",
     "start_time": "2019-06-27T04:57:13.214634Z"
    },
    "colab": {},
    "colab_type": "code",
    "id": "ulBVhGDET3CP"
   },
   "outputs": [],
   "source": [
    "# Program to add two matrices using nested loop\n",
    "\n",
    "X = np.array([[12,7,3],\n",
    "    [4 ,5,6],\n",
    "    [7 ,8,9]])\n",
    "\n",
    "Y = np.array([[5,8,1],\n",
    "    [6,7,3],\n",
    "    [4,5,9]])\n",
    "\n",
    "# initialise result\n",
    "\n",
    "result = [[0,0,0],\n",
    "         [0,0,0],\n",
    "         [0,0,0]]"
   ]
  },
  {
   "cell_type": "code",
   "execution_count": 106,
   "metadata": {},
   "outputs": [],
   "source": [
    "# hint : # iterate through rows & iterate through columns\n",
    "\n",
    "for i in range(len(X)):\n",
    "    for j in range(len(X.T)):\n",
    "        result[i][j] = X[i][j]\n",
    "        \n",
    "for q in range(len(Y)):\n",
    "    for p in range(len(Y.T)):\n",
    "        result[q][p] += Y[q][p]\n",
    "        "
   ]
  },
  {
   "cell_type": "code",
   "execution_count": 107,
   "metadata": {},
   "outputs": [
    {
     "data": {
      "text/plain": [
       "[[17, 15, 4], [10, 12, 9], [11, 13, 18]]"
      ]
     },
     "execution_count": 107,
     "metadata": {},
     "output_type": "execute_result"
    }
   ],
   "source": [
    "result"
   ]
  },
  {
   "cell_type": "code",
   "execution_count": null,
   "metadata": {},
   "outputs": [],
   "source": [
    "# Alternative - one line of code"
   ]
  },
  {
   "cell_type": "code",
   "execution_count": 109,
   "metadata": {},
   "outputs": [
    {
     "data": {
      "text/plain": [
       "array([[17, 15,  4],\n",
       "       [10, 12,  9],\n",
       "       [11, 13, 18]])"
      ]
     },
     "execution_count": 109,
     "metadata": {},
     "output_type": "execute_result"
    }
   ],
   "source": [
    "np.add(X, Y)"
   ]
  },
  {
   "cell_type": "markdown",
   "metadata": {
    "ExecuteTime": {
     "end_time": "2019-06-27T04:04:23.509007Z",
     "start_time": "2019-06-27T04:04:23.503018Z"
    },
    "colab_type": "text",
    "id": "CZFVdvEhT3CS"
   },
   "source": [
    "5. Compute the product of two matrices.\n",
    "\n",
    "![](https://upload.wikimedia.org/wikipedia/commons/e/eb/Matrix_multiplication_diagram_2.svg)"
   ]
  },
  {
   "cell_type": "code",
   "execution_count": 199,
   "metadata": {
    "ExecuteTime": {
     "end_time": "2019-06-27T04:57:19.425749Z",
     "start_time": "2019-06-27T04:57:19.412783Z"
    },
    "colab": {},
    "colab_type": "code",
    "id": "2cwCXjx_T3CT"
   },
   "outputs": [],
   "source": [
    "# Program to multiply two matrices using nested loops\n",
    "\n",
    "# 3x3 matrix\n",
    "X = np.array([[12,7,3],\n",
    "    [4 ,5,6],\n",
    "    [7 ,8,9]])\n",
    "\n",
    "# 3x4 matrix\n",
    "Y = np.array([[5,8,1,2],\n",
    "    [6,7,3,0],\n",
    "    [4,5,9,1]])\n",
    "\n",
    "# result is 3x4\n",
    "result = [[0,0,0,0],\n",
    "         [0,0,0,0],\n",
    "         [0,0,0,0]]"
   ]
  },
  {
   "cell_type": "code",
   "execution_count": 198,
   "metadata": {},
   "outputs": [
    {
     "data": {
      "text/plain": [
       "[[114, 160, 60, 27], [74, 97, 73, 14], [119, 157, 112, 23]]"
      ]
     },
     "execution_count": 198,
     "metadata": {},
     "output_type": "execute_result"
    }
   ],
   "source": [
    "#for q in range(len(Y)):\n",
    "    #for p in range(len(Y.T)):\n",
    "       # result[q][p] = Y[q][p]\n",
    "        #print(Y[q][p])\n",
    "\n",
    "#for i in range(len(X)):\n",
    "    #for j in range(len(Y.T)):\n",
    "       # result[i][j] *= X[i][j]\n",
    "        \n",
    "#for q in range(len(X)):\n",
    "   # for p in range(len(X.T)):\n",
    "        #for g in range(len(Y.T)):\n",
    "       # result[q][p] = X[q][p] * Y.T[q][g]\n",
    "        #print(Y[q][p])\n",
    "\n",
    "        \n",
    "for r_x in range(len(X)):\n",
    "    #print(X[r_x])\n",
    "    for r_y in range(len(Y.T)):\n",
    "        #print(Y.T[r_y])\n",
    "        result[r_x][r_y] = np.dot(X[r_x], Y.T[r_y])\n",
    "        \n",
    "result\n",
    "        \n",
    "    \n",
    "\n",
    "        "
   ]
  },
  {
   "cell_type": "markdown",
   "metadata": {
    "colab_type": "text",
    "id": "zxe0vdBVT3CV"
   },
   "source": [
    "6. Compute the determinant of an n x n matrix.\n",
    "\n",
    "![](https://integratedmlai.com/wp-content/uploads/2018/12/Matrix_Det_2x2.png)\n",
    "\n",
    "\n",
    "\n",
    "Hint: Use \n",
    "> np.linalg.det\n",
    "\n",
    "Alt. Hint: [Find the Determinant of a Matrix with Pure Python without Numpy or Scipy](https://integratedmlai.com/find-the-determinant-of-a-matrix-with-pure-python-without-numpy-or-scipy/)"
   ]
  },
  {
   "cell_type": "code",
   "execution_count": 201,
   "metadata": {
    "ExecuteTime": {
     "end_time": "2019-06-27T04:58:00.140277Z",
     "start_time": "2019-06-27T04:58:00.135291Z"
    },
    "colab": {},
    "colab_type": "code",
    "id": "7SpAPh-5T3CW"
   },
   "outputs": [
    {
     "data": {
      "text/plain": [
       "17.999999999999996"
      ]
     },
     "execution_count": 201,
     "metadata": {},
     "output_type": "execute_result"
    }
   ],
   "source": [
    "matrix = [[-2,2,-3],[-1,1,3],[2,0,-1]]\n",
    "\n",
    "np.linalg.det(matrix)"
   ]
  },
  {
   "cell_type": "markdown",
   "metadata": {
    "colab_type": "text",
    "id": "vUC6L5r1T3Ca"
   },
   "source": [
    "7. Compute the inverse of an n x n matrix.\n",
    "\n",
    "For a 3×3 matrix\n",
    "\n",
    "![](http://mathworld.wolfram.com/images/equations/MatrixInverse/NumberedEquation3.gif)\n",
    "\n",
    "the matrix inverse is\n",
    "\n",
    "![](http://mathworld.wolfram.com/images/equations/MatrixInverse/NumberedEquation4.gif)\n",
    "\n",
    "Hint: Use \n",
    "> from numpy.linalg import inv"
   ]
  },
  {
   "cell_type": "code",
   "execution_count": 202,
   "metadata": {
    "ExecuteTime": {
     "end_time": "2019-06-27T04:58:33.615832Z",
     "start_time": "2019-06-27T04:58:33.609848Z"
    },
    "colab": {},
    "colab_type": "code",
    "id": "qGxUYlMWT3Cb"
   },
   "outputs": [
    {
     "data": {
      "text/plain": [
       "array([[-2. ,  1. ],\n",
       "       [ 1.5, -0.5]])"
      ]
     },
     "execution_count": 202,
     "metadata": {},
     "output_type": "execute_result"
    }
   ],
   "source": [
    "from numpy.linalg import inv\n",
    "\n",
    "a = np.array([[1., 2.], [3., 4.]])\n",
    "\n",
    "inv(a)"
   ]
  },
  {
   "cell_type": "markdown",
   "metadata": {
    "colab_type": "text",
    "id": "f52z_umQpL1V"
   },
   "source": [
    "\n",
    "\n",
    "---\n",
    "\n",
    "\n",
    "\n",
    "---\n",
    "\n",
    "\n",
    "\n",
    "> > > > > > > > > © 2021 Institute of Data\n",
    "\n",
    "\n",
    "---\n",
    "\n",
    "\n",
    "\n",
    "---\n",
    "\n",
    "\n",
    "\n"
   ]
  }
 ],
 "metadata": {
  "colab": {
   "collapsed_sections": [],
   "name": "Lab 1.1.1 Vector & Matrix Operations .ipynb",
   "provenance": []
  },
  "kernelspec": {
   "display_name": "Python 3",
   "language": "python",
   "name": "python3"
  },
  "language_info": {
   "codemirror_mode": {
    "name": "ipython",
    "version": 3
   },
   "file_extension": ".py",
   "mimetype": "text/x-python",
   "name": "python",
   "nbconvert_exporter": "python",
   "pygments_lexer": "ipython3",
   "version": "3.8.5"
  }
 },
 "nbformat": 4,
 "nbformat_minor": 1
}
